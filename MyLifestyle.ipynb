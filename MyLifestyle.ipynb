{
  "cells": [
    {
      "cell_type": "markdown",
      "metadata": {
        "id": "view-in-github",
        "colab_type": "text"
      },
      "source": [
        "<a href=\"https://colab.research.google.com/github/ganeshIIT/lifestyle/blob/main/MyLifestyle.ipynb\" target=\"_parent\"><img src=\"https://colab.research.google.com/assets/colab-badge.svg\" alt=\"Open In Colab\"/></a>"
      ]
    },
    {
      "cell_type": "code",
      "execution_count": 60,
      "metadata": {
        "id": "9qaAxraEOblY"
      },
      "outputs": [],
      "source": [
        "!pip install xmltodict -q\n",
        "!pip install jupyter-dash -q"
      ]
    },
    {
      "cell_type": "code",
      "execution_count": 61,
      "metadata": {
        "id": "rjXXs7yoOS-2"
      },
      "outputs": [],
      "source": [
        "import pandas as pd\n",
        "import xmltodict\n",
        "import re\n",
        "import matplotlib.pyplot as plt\n",
        "import seaborn as sns\n",
        "\n",
        "import utilities\n"
      ]
    },
    {
      "cell_type": "code",
      "source": [
        "def labelcleaner(df):\n",
        "    df.columns = [\n",
        "        utilities._cleanlabel(col) for col in df.columns\n",
        "    ]\n",
        "    if df.index.name:\n",
        "        df.index.rename(\n",
        "            utilities._cleanlabel(df.index.name),\n",
        "            inplace=True\n",
        "        )\n",
        "    return df"
      ],
      "metadata": {
        "id": "SWiUkuMpE9hs"
      },
      "execution_count": 62,
      "outputs": []
    },
    {
      "cell_type": "code",
      "execution_count": 63,
      "metadata": {
        "id": "TAp776kfNzhE"
      },
      "outputs": [],
      "source": [
        "health_datapath = '/content/drive/MyDrive/Personal/export.xml'\n",
        "sleep_datapath = '/content/drive/MyDrive/Personal/AutoSleep.csv'\n",
        "#workout_datapath = '/content/drive/MyDrive/Personal/Workout.csv'"
      ]
    },
    {
      "cell_type": "code",
      "execution_count": 64,
      "metadata": {
        "id": "8mXBxenEORIi"
      },
      "outputs": [],
      "source": [
        "with open(health_datapath, 'r', errors='ignore') as xml_file:\n",
        "    health = xmltodict.parse(xml_file.read())\n",
        "\n",
        "healthrecords = health['HealthData']['Record']\n",
        "workoutrecords = health['HealthData']['Workout']\n",
        "\n",
        "healthdata = pd.DataFrame(healthrecords)\n",
        "workoutdata = pd.DataFrame(workoutrecords)\n",
        "sleepdata = pd.read_csv(sleep_datapath)"
      ]
    },
    {
      "cell_type": "code",
      "source": [
        "health_rawsample = healthdata.sample(1000)\n",
        "workout_rawsample = workoutdata.copy()\n",
        "sleep_rawsample = sleepdata.copy()"
      ],
      "metadata": {
        "id": "hncwwVYK2k_N"
      },
      "execution_count": 65,
      "outputs": []
    },
    {
      "cell_type": "code",
      "source": [
        "health_rawsample.info()\n",
        "workout_rawsample.info()\n",
        "sleep_rawsample.info()"
      ],
      "metadata": {
        "colab": {
          "base_uri": "https://localhost:8080/"
        },
        "id": "aZKI931thRKb",
        "outputId": "f4e36562-c5ab-48cb-e8a9-7880c93d7598"
      },
      "execution_count": 66,
      "outputs": [
        {
          "output_type": "stream",
          "name": "stdout",
          "text": [
            "<class 'pandas.core.frame.DataFrame'>\n",
            "Int64Index: 1000 entries, 100269 to 461962\n",
            "Data columns (total 11 columns):\n",
            " #   Column                            Non-Null Count  Dtype \n",
            "---  ------                            --------------  ----- \n",
            " 0   @type                             1000 non-null   object\n",
            " 1   @sourceName                       1000 non-null   object\n",
            " 2   @sourceVersion                    1000 non-null   object\n",
            " 3   @unit                             983 non-null    object\n",
            " 4   @creationDate                     1000 non-null   object\n",
            " 5   @startDate                        1000 non-null   object\n",
            " 6   @endDate                          1000 non-null   object\n",
            " 7   @value                            1000 non-null   object\n",
            " 8   @device                           962 non-null    object\n",
            " 9   MetadataEntry                     154 non-null    object\n",
            " 10  HeartRateVariabilityMetadataList  3 non-null      object\n",
            "dtypes: object(11)\n",
            "memory usage: 93.8+ KB\n",
            "<class 'pandas.core.frame.DataFrame'>\n",
            "RangeIndex: 362 entries, 0 to 361\n",
            "Data columns (total 16 columns):\n",
            " #   Column                  Non-Null Count  Dtype \n",
            "---  ------                  --------------  ----- \n",
            " 0   @workoutActivityType    362 non-null    object\n",
            " 1   @duration               362 non-null    object\n",
            " 2   @durationUnit           362 non-null    object\n",
            " 3   @totalDistance          362 non-null    object\n",
            " 4   @totalDistanceUnit      362 non-null    object\n",
            " 5   @totalEnergyBurned      362 non-null    object\n",
            " 6   @totalEnergyBurnedUnit  362 non-null    object\n",
            " 7   @sourceName             362 non-null    object\n",
            " 8   @sourceVersion          362 non-null    object\n",
            " 9   @device                 300 non-null    object\n",
            " 10  @creationDate           362 non-null    object\n",
            " 11  @startDate              362 non-null    object\n",
            " 12  @endDate                362 non-null    object\n",
            " 13  MetadataEntry           300 non-null    object\n",
            " 14  WorkoutEvent            32 non-null     object\n",
            " 15  WorkoutRoute            33 non-null     object\n",
            "dtypes: object(16)\n",
            "memory usage: 45.4+ KB\n",
            "<class 'pandas.core.frame.DataFrame'>\n",
            "RangeIndex: 333 entries, 0 to 332\n",
            "Data columns (total 35 columns):\n",
            " #   Column          Non-Null Count  Dtype  \n",
            "---  ------          --------------  -----  \n",
            " 0   ISO8601         333 non-null    object \n",
            " 1   fromDate        333 non-null    object \n",
            " 2   toDate          333 non-null    object \n",
            " 3   bedtime         333 non-null    object \n",
            " 4   waketime        333 non-null    object \n",
            " 5   inBed           333 non-null    object \n",
            " 6   awake           333 non-null    object \n",
            " 7   fellAsleepIn    331 non-null    object \n",
            " 8   sessions        333 non-null    int64  \n",
            " 9   asleep          333 non-null    object \n",
            " 10  asleepAvg7      333 non-null    object \n",
            " 11  efficiency      333 non-null    float64\n",
            " 12  efficiencyAvg7  333 non-null    float64\n",
            " 13  quality         331 non-null    object \n",
            " 14  qualityAvg7     331 non-null    object \n",
            " 15  deep            282 non-null    object \n",
            " 16  deepAvg7        282 non-null    object \n",
            " 17  sleepBPM        331 non-null    float64\n",
            " 18  sleepBPMAvg7    331 non-null    float64\n",
            " 19  dayBPM          329 non-null    float64\n",
            " 20  dayBPMAvg7      329 non-null    float64\n",
            " 21  wakingBPM       333 non-null    float64\n",
            " 22  wakingBPMAvg7   333 non-null    float64\n",
            " 23  hrv             333 non-null    int64  \n",
            " 24  hrvAvg7         333 non-null    int64  \n",
            " 25  sleepHRV        330 non-null    float64\n",
            " 26  sleepHRVAvg7    330 non-null    float64\n",
            " 27  SpO2Avg         0 non-null      float64\n",
            " 28  SpO2Min         0 non-null      float64\n",
            " 29  SpO2Max         0 non-null      float64\n",
            " 30  respAvg         331 non-null    float64\n",
            " 31  respMin         331 non-null    float64\n",
            " 32  respMax         331 non-null    float64\n",
            " 33  tags            1 non-null      object \n",
            " 34  notes           0 non-null      float64\n",
            "dtypes: float64(17), int64(3), object(15)\n",
            "memory usage: 91.2+ KB\n"
          ]
        }
      ]
    },
    {
      "cell_type": "code",
      "execution_count": 67,
      "metadata": {
        "id": "4TzlOziHX_M_"
      },
      "outputs": [],
      "source": [
        "healthdata = labelcleaner(healthdata)\n",
        "workoutdata = labelcleaner(workoutdata)\n",
        "sleepdata = labelcleaner(sleepdata)"
      ]
    },
    {
      "cell_type": "code",
      "execution_count": 68,
      "metadata": {
        "id": "hqnUF1-sX_LU",
        "colab": {
          "base_uri": "https://localhost:8080/"
        },
        "outputId": "3b84bb4a-b9f2-4215-b189-8a77f3bc2759"
      },
      "outputs": [
        {
          "output_type": "execute_result",
          "data": {
            "text/plain": [
              "Index(['type', 'sourcename', 'sourceversion', 'unit', 'creationdate',\n",
              "       'startdate', 'enddate', 'value', 'device', 'metadataentry',\n",
              "       'heartratevariabilitymetadatalist'],\n",
              "      dtype='object')"
            ]
          },
          "metadata": {},
          "execution_count": 68
        }
      ],
      "source": [
        "healthdata.columns"
      ]
    },
    {
      "cell_type": "code",
      "source": [
        "workoutdata.columns"
      ],
      "metadata": {
        "id": "Knuno9Mz5RlS",
        "colab": {
          "base_uri": "https://localhost:8080/"
        },
        "outputId": "a6480762-ceba-4870-e98f-36ad56c91ae8"
      },
      "execution_count": 69,
      "outputs": [
        {
          "output_type": "execute_result",
          "data": {
            "text/plain": [
              "Index(['workoutactivitytype', 'duration', 'durationunit', 'totaldistance',\n",
              "       'totaldistanceunit', 'totalenergyburned', 'totalenergyburnedunit',\n",
              "       'sourcename', 'sourceversion', 'device', 'creationdate', 'startdate',\n",
              "       'enddate', 'metadataentry', 'workoutevent', 'workoutroute'],\n",
              "      dtype='object')"
            ]
          },
          "metadata": {},
          "execution_count": 69
        }
      ]
    },
    {
      "cell_type": "code",
      "source": [
        "sleepdata.columns"
      ],
      "metadata": {
        "id": "zojGLsaC5RYG",
        "colab": {
          "base_uri": "https://localhost:8080/"
        },
        "outputId": "16ca8bf5-1251-4fc2-ba26-2fe31b520e16"
      },
      "execution_count": 70,
      "outputs": [
        {
          "output_type": "execute_result",
          "data": {
            "text/plain": [
              "Index(['iso8601', 'fromdate', 'todate', 'bedtime', 'waketime', 'inbed',\n",
              "       'awake', 'fellasleepin', 'sessions', 'asleep', 'asleepavg7',\n",
              "       'efficiency', 'efficiencyavg7', 'quality', 'qualityavg7', 'deep',\n",
              "       'deepavg7', 'sleepbpm', 'sleepbpmavg7', 'daybpm', 'daybpmavg7',\n",
              "       'wakingbpm', 'wakingbpmavg7', 'hrv', 'hrvavg7', 'sleephrv',\n",
              "       'sleephrvavg7', 'spo2avg', 'spo2min', 'spo2max', 'respavg', 'respmin',\n",
              "       'respmax', 'tags', 'notes'],\n",
              "      dtype='object')"
            ]
          },
          "metadata": {},
          "execution_count": 70
        }
      ]
    },
    {
      "cell_type": "code",
      "execution_count": 71,
      "metadata": {
        "id": "XK4bs9C5X_Fe"
      },
      "outputs": [],
      "source": [
        "## Apple health data cleaner\n",
        "## @utilities.cleanlabel\n",
        "def cleansehealthdata(df):\n",
        "    return (df\n",
        "     .dropna(thresh = df.shape[0]//4, axis=1)\n",
        "     .rename(columns ={'type': 'datatype'})\n",
        "     .assign(creationdate = lambda x: pd.to_datetime(x['creationdate']).dt.tz_convert(None),\n",
        "             startdate = lambda x: pd.to_datetime(x['startdate']).dt.tz_convert(None),\n",
        "             enddate = lambda x: pd.to_datetime(x['enddate']).dt.tz_convert(None),\n",
        "             datatype = lambda x: x['datatype'].str.replace('HKQuantityTypeIdentifier', ''),\n",
        "             device = lambda x: x['device'].fillna('No device'))\n",
        "     .query(\"value != 'HKCategoryValueSleepAnalysisInBed'\")\n",
        "     .query(\"datatype in ['BodyMassIndex', 'Height', 'BodyMass', 'HeartRate', \\\n",
        "                        'RespiratoryRate', 'BodyFatPercentage', 'LeanBodyMass',\\\n",
        "                        'StepCount', 'DistanceWalkingRunning', 'BasalEnergyBurned',\\\n",
        "                        'ActiveEnergyBurned', 'FlightsClimbed',\\\n",
        "                        'AppleExerciseTime', 'RestingHeartRate', 'VO2Max',\\\n",
        "                        'WalkingHeartRateAverage', 'EnvironmentalAudioExposure',\\\n",
        "                        'HeadphoneAudioExposure', 'WalkingDoubleSupportPercentage',\\\n",
        "                        'SixMinuteWalkTestDistance', 'AppleStandTime', 'WalkingSpeed',\\\n",
        "                        'WalkingStepLength', 'WalkingAsymmetryPercentage',\\\n",
        "                        'HKDataTypeSleepDurationGoal', 'AppleWalkingSteadiness',\\\n",
        "                        'HeartRateVariabilitySDNN'] \")\n",
        "     .dropna()\n",
        "     .astype({'datatype':'category', 'sourcename':'category','value':'float'})\n",
        "     )\n",
        "\n",
        "\n",
        "## Heart watch workout data cleaner\n",
        "## @utilities.cleanlabel\n",
        "def cleanseworkoutdata(df):\n",
        "    return (\n",
        "        df\n",
        "        .dropna(thresh = df.shape[0]//4, axis=1)\n",
        "        .drop(['sourceversion'],\n",
        "            axis = 1, errors='ignore')\n",
        "        .rename(columns = {'workoutactivitytype': 'workouttype', 'metadataentry':'workoutname'})\n",
        "        .assign(\n",
        "            workouttype = lambda x: x['workouttype'].str.replace('HKWorkoutActivityType', ''),\n",
        "            workoutname = lambda x: x['workoutname'].apply(lambda x: x.get('@value')if isinstance(x, dict) else 'unknown'),\n",
        "            creationdate = lambda x: pd.to_datetime(x['creationdate']).dt.tz_convert(None),\n",
        "            startdate = lambda x: pd.to_datetime(x['startdate']).dt.tz_convert(None),\n",
        "            enddate = lambda x: pd.to_datetime(x['enddate']).dt.tz_convert(None),\n",
        "            device = lambda x: x['device'].fillna('No device')\n",
        "            )\n",
        "        .astype({'workouttype':'category', 'sourcename':'category', 'workoutname': 'category'})\n",
        "        .astype({'duration':'float', 'totaldistance':'float', 'totalenergyburned': 'float'})\n",
        "        .dropna()\n",
        "        )\n",
        "\n",
        "\n",
        "## Heart watch workout data cleaner\n",
        "## @utilities.cleanlabel\n",
        "def cleansesleepdata(df):\n",
        "    return (\n",
        "      df.drop(['asleepavg7','efficiencyavg7','qualityavg7', 'deepavg7', \n",
        "            'sleepbpmavg7',  'daybpmavg7','wakingbpmavg7', 'hrvavg7',\n",
        "            'sleephrvavg7', 'spo2avg', 'spo2min', 'spo2max', 'tags', 'notes'],\n",
        "            axis = 1, errors='ignore')\n",
        "        .dropna(thresh = df.shape[0]//4, axis=1)\n",
        "        .rename(columns ={'iso8601': 'maindate'})\n",
        "        .assign(maindate = lambda x: pd.to_datetime(x['maindate'])\n",
        "                                        .dt.tz_convert(None).dt.normalize(),\n",
        "                fromdate = lambda x: pd.to_datetime(x['fromdate']),\n",
        "                todate = lambda x: pd.to_datetime(x['todate']),\n",
        "                bedtime = lambda x: pd.to_datetime(x['bedtime']),\n",
        "                waketime = lambda x: pd.to_datetime(x['waketime']),\n",
        "                inbed= lambda x: pd.to_timedelta(x['inbed']),\n",
        "                awake= lambda x: pd.to_timedelta(x['awake']),\n",
        "                fellasleepin= lambda x: pd.to_timedelta(x['fellasleepin']),\n",
        "                asleep= lambda x: pd.to_timedelta(x['asleep']),\n",
        "                quality= lambda x: pd.to_timedelta(x['quality']),\n",
        "                deep= lambda x: pd.to_timedelta(x['deep']),\n",
        "                )\n",
        "    )\n",
        "    #return df"
      ]
    },
    {
      "cell_type": "code",
      "execution_count": 72,
      "metadata": {
        "id": "iN_7dA_Yba5L"
      },
      "outputs": [],
      "source": [
        "healthdata = cleansehealthdata(healthdata)\n",
        "workoutdata = cleanseworkoutdata(workoutdata)\n",
        "sleepdata = cleansesleepdata(sleepdata)"
      ]
    },
    {
      "cell_type": "code",
      "source": [
        "sleepdata.head()"
      ],
      "metadata": {
        "colab": {
          "base_uri": "https://localhost:8080/",
          "height": 467
        },
        "id": "qa1zld1fRFi9",
        "outputId": "7e31789e-cf70-4944-b0d2-efa199996643"
      },
      "execution_count": 73,
      "outputs": [
        {
          "output_type": "execute_result",
          "data": {
            "text/plain": [
              "    maindate   fromdate     todate             bedtime            waketime  \\\n",
              "0 2021-10-09 2021-10-08 2021-10-09 2021-10-08 22:51:00 2021-10-09 05:36:00   \n",
              "1 2021-10-10 2021-10-09 2021-10-10 2021-10-09 22:45:00 2021-10-10 03:46:00   \n",
              "2 2021-10-11 2021-10-10 2021-10-11 2021-10-10 20:56:00 2021-10-11 06:35:00   \n",
              "3 2021-10-12 2021-10-11 2021-10-12 2021-10-11 22:00:00 2021-10-12 05:21:00   \n",
              "4 2021-10-13 2021-10-12 2021-10-13 2021-10-12 22:45:00 2021-10-13 04:41:00   \n",
              "\n",
              "            inbed           awake fellasleepin  sessions          asleep  ...  \\\n",
              "0 0 days 06:45:00 0 days 00:21:00       0 days         1 0 days 06:24:00  ...   \n",
              "1 0 days 05:01:00 0 days 01:03:00       0 days         1 0 days 03:58:00  ...   \n",
              "2 0 days 09:39:00 0 days 01:36:00       0 days         1 0 days 08:03:00  ...   \n",
              "3 0 days 07:21:00 0 days 00:00:00       0 days         1 0 days 07:21:00  ...   \n",
              "4 0 days 05:56:00 0 days 00:00:00       0 days         1 0 days 05:56:00  ...   \n",
              "\n",
              "          quality            deep sleepbpm  daybpm  wakingbpm  hrv  sleephrv  \\\n",
              "0 0 days 04:57:00             NaT     71.7    83.4       71.0   70      55.0   \n",
              "1 0 days 02:52:28 0 days 00:14:00     74.1    79.9       76.0   49      43.0   \n",
              "2 0 days 05:54:53 0 days 00:29:16     69.7    87.7       67.0   88      61.0   \n",
              "3 0 days 05:17:57 0 days 01:16:02     69.5    83.1       61.0  104      64.0   \n",
              "4 0 days 04:38:22 0 days 01:14:10     68.3    81.0       65.0   42      38.0   \n",
              "\n",
              "   respavg  respmin  respmax  \n",
              "0     16.1     13.0     20.5  \n",
              "1     16.6     14.5     19.0  \n",
              "2     16.1     11.5     18.5  \n",
              "3     16.3     13.0     19.0  \n",
              "4     15.7     12.5     20.0  \n",
              "\n",
              "[5 rows x 21 columns]"
            ],
            "text/html": [
              "\n",
              "  <div id=\"df-e9850345-6244-4890-b3e9-b861c5d3e345\">\n",
              "    <div class=\"colab-df-container\">\n",
              "      <div>\n",
              "<style scoped>\n",
              "    .dataframe tbody tr th:only-of-type {\n",
              "        vertical-align: middle;\n",
              "    }\n",
              "\n",
              "    .dataframe tbody tr th {\n",
              "        vertical-align: top;\n",
              "    }\n",
              "\n",
              "    .dataframe thead th {\n",
              "        text-align: right;\n",
              "    }\n",
              "</style>\n",
              "<table border=\"1\" class=\"dataframe\">\n",
              "  <thead>\n",
              "    <tr style=\"text-align: right;\">\n",
              "      <th></th>\n",
              "      <th>maindate</th>\n",
              "      <th>fromdate</th>\n",
              "      <th>todate</th>\n",
              "      <th>bedtime</th>\n",
              "      <th>waketime</th>\n",
              "      <th>inbed</th>\n",
              "      <th>awake</th>\n",
              "      <th>fellasleepin</th>\n",
              "      <th>sessions</th>\n",
              "      <th>asleep</th>\n",
              "      <th>...</th>\n",
              "      <th>quality</th>\n",
              "      <th>deep</th>\n",
              "      <th>sleepbpm</th>\n",
              "      <th>daybpm</th>\n",
              "      <th>wakingbpm</th>\n",
              "      <th>hrv</th>\n",
              "      <th>sleephrv</th>\n",
              "      <th>respavg</th>\n",
              "      <th>respmin</th>\n",
              "      <th>respmax</th>\n",
              "    </tr>\n",
              "  </thead>\n",
              "  <tbody>\n",
              "    <tr>\n",
              "      <th>0</th>\n",
              "      <td>2021-10-09</td>\n",
              "      <td>2021-10-08</td>\n",
              "      <td>2021-10-09</td>\n",
              "      <td>2021-10-08 22:51:00</td>\n",
              "      <td>2021-10-09 05:36:00</td>\n",
              "      <td>0 days 06:45:00</td>\n",
              "      <td>0 days 00:21:00</td>\n",
              "      <td>0 days</td>\n",
              "      <td>1</td>\n",
              "      <td>0 days 06:24:00</td>\n",
              "      <td>...</td>\n",
              "      <td>0 days 04:57:00</td>\n",
              "      <td>NaT</td>\n",
              "      <td>71.7</td>\n",
              "      <td>83.4</td>\n",
              "      <td>71.0</td>\n",
              "      <td>70</td>\n",
              "      <td>55.0</td>\n",
              "      <td>16.1</td>\n",
              "      <td>13.0</td>\n",
              "      <td>20.5</td>\n",
              "    </tr>\n",
              "    <tr>\n",
              "      <th>1</th>\n",
              "      <td>2021-10-10</td>\n",
              "      <td>2021-10-09</td>\n",
              "      <td>2021-10-10</td>\n",
              "      <td>2021-10-09 22:45:00</td>\n",
              "      <td>2021-10-10 03:46:00</td>\n",
              "      <td>0 days 05:01:00</td>\n",
              "      <td>0 days 01:03:00</td>\n",
              "      <td>0 days</td>\n",
              "      <td>1</td>\n",
              "      <td>0 days 03:58:00</td>\n",
              "      <td>...</td>\n",
              "      <td>0 days 02:52:28</td>\n",
              "      <td>0 days 00:14:00</td>\n",
              "      <td>74.1</td>\n",
              "      <td>79.9</td>\n",
              "      <td>76.0</td>\n",
              "      <td>49</td>\n",
              "      <td>43.0</td>\n",
              "      <td>16.6</td>\n",
              "      <td>14.5</td>\n",
              "      <td>19.0</td>\n",
              "    </tr>\n",
              "    <tr>\n",
              "      <th>2</th>\n",
              "      <td>2021-10-11</td>\n",
              "      <td>2021-10-10</td>\n",
              "      <td>2021-10-11</td>\n",
              "      <td>2021-10-10 20:56:00</td>\n",
              "      <td>2021-10-11 06:35:00</td>\n",
              "      <td>0 days 09:39:00</td>\n",
              "      <td>0 days 01:36:00</td>\n",
              "      <td>0 days</td>\n",
              "      <td>1</td>\n",
              "      <td>0 days 08:03:00</td>\n",
              "      <td>...</td>\n",
              "      <td>0 days 05:54:53</td>\n",
              "      <td>0 days 00:29:16</td>\n",
              "      <td>69.7</td>\n",
              "      <td>87.7</td>\n",
              "      <td>67.0</td>\n",
              "      <td>88</td>\n",
              "      <td>61.0</td>\n",
              "      <td>16.1</td>\n",
              "      <td>11.5</td>\n",
              "      <td>18.5</td>\n",
              "    </tr>\n",
              "    <tr>\n",
              "      <th>3</th>\n",
              "      <td>2021-10-12</td>\n",
              "      <td>2021-10-11</td>\n",
              "      <td>2021-10-12</td>\n",
              "      <td>2021-10-11 22:00:00</td>\n",
              "      <td>2021-10-12 05:21:00</td>\n",
              "      <td>0 days 07:21:00</td>\n",
              "      <td>0 days 00:00:00</td>\n",
              "      <td>0 days</td>\n",
              "      <td>1</td>\n",
              "      <td>0 days 07:21:00</td>\n",
              "      <td>...</td>\n",
              "      <td>0 days 05:17:57</td>\n",
              "      <td>0 days 01:16:02</td>\n",
              "      <td>69.5</td>\n",
              "      <td>83.1</td>\n",
              "      <td>61.0</td>\n",
              "      <td>104</td>\n",
              "      <td>64.0</td>\n",
              "      <td>16.3</td>\n",
              "      <td>13.0</td>\n",
              "      <td>19.0</td>\n",
              "    </tr>\n",
              "    <tr>\n",
              "      <th>4</th>\n",
              "      <td>2021-10-13</td>\n",
              "      <td>2021-10-12</td>\n",
              "      <td>2021-10-13</td>\n",
              "      <td>2021-10-12 22:45:00</td>\n",
              "      <td>2021-10-13 04:41:00</td>\n",
              "      <td>0 days 05:56:00</td>\n",
              "      <td>0 days 00:00:00</td>\n",
              "      <td>0 days</td>\n",
              "      <td>1</td>\n",
              "      <td>0 days 05:56:00</td>\n",
              "      <td>...</td>\n",
              "      <td>0 days 04:38:22</td>\n",
              "      <td>0 days 01:14:10</td>\n",
              "      <td>68.3</td>\n",
              "      <td>81.0</td>\n",
              "      <td>65.0</td>\n",
              "      <td>42</td>\n",
              "      <td>38.0</td>\n",
              "      <td>15.7</td>\n",
              "      <td>12.5</td>\n",
              "      <td>20.0</td>\n",
              "    </tr>\n",
              "  </tbody>\n",
              "</table>\n",
              "<p>5 rows × 21 columns</p>\n",
              "</div>\n",
              "      <button class=\"colab-df-convert\" onclick=\"convertToInteractive('df-e9850345-6244-4890-b3e9-b861c5d3e345')\"\n",
              "              title=\"Convert this dataframe to an interactive table.\"\n",
              "              style=\"display:none;\">\n",
              "        \n",
              "  <svg xmlns=\"http://www.w3.org/2000/svg\" height=\"24px\"viewBox=\"0 0 24 24\"\n",
              "       width=\"24px\">\n",
              "    <path d=\"M0 0h24v24H0V0z\" fill=\"none\"/>\n",
              "    <path d=\"M18.56 5.44l.94 2.06.94-2.06 2.06-.94-2.06-.94-.94-2.06-.94 2.06-2.06.94zm-11 1L8.5 8.5l.94-2.06 2.06-.94-2.06-.94L8.5 2.5l-.94 2.06-2.06.94zm10 10l.94 2.06.94-2.06 2.06-.94-2.06-.94-.94-2.06-.94 2.06-2.06.94z\"/><path d=\"M17.41 7.96l-1.37-1.37c-.4-.4-.92-.59-1.43-.59-.52 0-1.04.2-1.43.59L10.3 9.45l-7.72 7.72c-.78.78-.78 2.05 0 2.83L4 21.41c.39.39.9.59 1.41.59.51 0 1.02-.2 1.41-.59l7.78-7.78 2.81-2.81c.8-.78.8-2.07 0-2.86zM5.41 20L4 18.59l7.72-7.72 1.47 1.35L5.41 20z\"/>\n",
              "  </svg>\n",
              "      </button>\n",
              "      \n",
              "  <style>\n",
              "    .colab-df-container {\n",
              "      display:flex;\n",
              "      flex-wrap:wrap;\n",
              "      gap: 12px;\n",
              "    }\n",
              "\n",
              "    .colab-df-convert {\n",
              "      background-color: #E8F0FE;\n",
              "      border: none;\n",
              "      border-radius: 50%;\n",
              "      cursor: pointer;\n",
              "      display: none;\n",
              "      fill: #1967D2;\n",
              "      height: 32px;\n",
              "      padding: 0 0 0 0;\n",
              "      width: 32px;\n",
              "    }\n",
              "\n",
              "    .colab-df-convert:hover {\n",
              "      background-color: #E2EBFA;\n",
              "      box-shadow: 0px 1px 2px rgba(60, 64, 67, 0.3), 0px 1px 3px 1px rgba(60, 64, 67, 0.15);\n",
              "      fill: #174EA6;\n",
              "    }\n",
              "\n",
              "    [theme=dark] .colab-df-convert {\n",
              "      background-color: #3B4455;\n",
              "      fill: #D2E3FC;\n",
              "    }\n",
              "\n",
              "    [theme=dark] .colab-df-convert:hover {\n",
              "      background-color: #434B5C;\n",
              "      box-shadow: 0px 1px 3px 1px rgba(0, 0, 0, 0.15);\n",
              "      filter: drop-shadow(0px 1px 2px rgba(0, 0, 0, 0.3));\n",
              "      fill: #FFFFFF;\n",
              "    }\n",
              "  </style>\n",
              "\n",
              "      <script>\n",
              "        const buttonEl =\n",
              "          document.querySelector('#df-e9850345-6244-4890-b3e9-b861c5d3e345 button.colab-df-convert');\n",
              "        buttonEl.style.display =\n",
              "          google.colab.kernel.accessAllowed ? 'block' : 'none';\n",
              "\n",
              "        async function convertToInteractive(key) {\n",
              "          const element = document.querySelector('#df-e9850345-6244-4890-b3e9-b861c5d3e345');\n",
              "          const dataTable =\n",
              "            await google.colab.kernel.invokeFunction('convertToInteractive',\n",
              "                                                     [key], {});\n",
              "          if (!dataTable) return;\n",
              "\n",
              "          const docLinkHtml = 'Like what you see? Visit the ' +\n",
              "            '<a target=\"_blank\" href=https://colab.research.google.com/notebooks/data_table.ipynb>data table notebook</a>'\n",
              "            + ' to learn more about interactive tables.';\n",
              "          element.innerHTML = '';\n",
              "          dataTable['output_type'] = 'display_data';\n",
              "          await google.colab.output.renderOutput(dataTable, element);\n",
              "          const docLink = document.createElement('div');\n",
              "          docLink.innerHTML = docLinkHtml;\n",
              "          element.appendChild(docLink);\n",
              "        }\n",
              "      </script>\n",
              "    </div>\n",
              "  </div>\n",
              "  "
            ]
          },
          "metadata": {},
          "execution_count": 73
        }
      ]
    },
    {
      "cell_type": "code",
      "source": [
        "healthdata.info()"
      ],
      "metadata": {
        "id": "gv_9kqxkMlWe",
        "colab": {
          "base_uri": "https://localhost:8080/"
        },
        "outputId": "ea242a6d-24cb-4aac-fc33-862ae8660965"
      },
      "execution_count": 74,
      "outputs": [
        {
          "output_type": "stream",
          "name": "stdout",
          "text": [
            "<class 'pandas.core.frame.DataFrame'>\n",
            "Int64Index: 973928 entries, 0 to 986936\n",
            "Data columns (total 9 columns):\n",
            " #   Column         Non-Null Count   Dtype         \n",
            "---  ------         --------------   -----         \n",
            " 0   datatype       973928 non-null  category      \n",
            " 1   sourcename     973928 non-null  category      \n",
            " 2   sourceversion  973928 non-null  object        \n",
            " 3   unit           973928 non-null  object        \n",
            " 4   creationdate   973928 non-null  datetime64[ns]\n",
            " 5   startdate      973928 non-null  datetime64[ns]\n",
            " 6   enddate        973928 non-null  datetime64[ns]\n",
            " 7   value          973928 non-null  float64       \n",
            " 8   device         973928 non-null  object        \n",
            "dtypes: category(2), datetime64[ns](3), float64(1), object(3)\n",
            "memory usage: 61.3+ MB\n"
          ]
        }
      ]
    },
    {
      "cell_type": "code",
      "source": [],
      "metadata": {
        "id": "9xhhecQfq--q"
      },
      "execution_count": 74,
      "outputs": []
    },
    {
      "cell_type": "code",
      "source": [
        "workoutdata.info()"
      ],
      "metadata": {
        "id": "8-mq4DQ0K9q5",
        "colab": {
          "base_uri": "https://localhost:8080/"
        },
        "outputId": "ef273335-ac6a-4e5a-9c10-eaf6757489e4"
      },
      "execution_count": 75,
      "outputs": [
        {
          "output_type": "stream",
          "name": "stdout",
          "text": [
            "<class 'pandas.core.frame.DataFrame'>\n",
            "Int64Index: 362 entries, 0 to 361\n",
            "Data columns (total 13 columns):\n",
            " #   Column                 Non-Null Count  Dtype         \n",
            "---  ------                 --------------  -----         \n",
            " 0   workouttype            362 non-null    category      \n",
            " 1   duration               362 non-null    float64       \n",
            " 2   durationunit           362 non-null    object        \n",
            " 3   totaldistance          362 non-null    float64       \n",
            " 4   totaldistanceunit      362 non-null    object        \n",
            " 5   totalenergyburned      362 non-null    float64       \n",
            " 6   totalenergyburnedunit  362 non-null    object        \n",
            " 7   sourcename             362 non-null    category      \n",
            " 8   device                 362 non-null    object        \n",
            " 9   creationdate           362 non-null    datetime64[ns]\n",
            " 10  startdate              362 non-null    datetime64[ns]\n",
            " 11  enddate                362 non-null    datetime64[ns]\n",
            " 12  workoutname            362 non-null    category      \n",
            "dtypes: category(3), datetime64[ns](3), float64(3), object(4)\n",
            "memory usage: 33.8+ KB\n"
          ]
        }
      ]
    },
    {
      "cell_type": "code",
      "source": [
        "sleepdata.info()"
      ],
      "metadata": {
        "id": "rD87PtD9LMf4",
        "colab": {
          "base_uri": "https://localhost:8080/"
        },
        "outputId": "6a92247a-1087-406f-b2da-bd8b5d4d4598"
      },
      "execution_count": 76,
      "outputs": [
        {
          "output_type": "stream",
          "name": "stdout",
          "text": [
            "<class 'pandas.core.frame.DataFrame'>\n",
            "RangeIndex: 333 entries, 0 to 332\n",
            "Data columns (total 21 columns):\n",
            " #   Column        Non-Null Count  Dtype          \n",
            "---  ------        --------------  -----          \n",
            " 0   maindate      333 non-null    datetime64[ns] \n",
            " 1   fromdate      333 non-null    datetime64[ns] \n",
            " 2   todate        333 non-null    datetime64[ns] \n",
            " 3   bedtime       333 non-null    datetime64[ns] \n",
            " 4   waketime      333 non-null    datetime64[ns] \n",
            " 5   inbed         333 non-null    timedelta64[ns]\n",
            " 6   awake         333 non-null    timedelta64[ns]\n",
            " 7   fellasleepin  331 non-null    timedelta64[ns]\n",
            " 8   sessions      333 non-null    int64          \n",
            " 9   asleep        333 non-null    timedelta64[ns]\n",
            " 10  efficiency    333 non-null    float64        \n",
            " 11  quality       331 non-null    timedelta64[ns]\n",
            " 12  deep          282 non-null    timedelta64[ns]\n",
            " 13  sleepbpm      331 non-null    float64        \n",
            " 14  daybpm        329 non-null    float64        \n",
            " 15  wakingbpm     333 non-null    float64        \n",
            " 16  hrv           333 non-null    int64          \n",
            " 17  sleephrv      330 non-null    float64        \n",
            " 18  respavg       331 non-null    float64        \n",
            " 19  respmin       331 non-null    float64        \n",
            " 20  respmax       331 non-null    float64        \n",
            "dtypes: datetime64[ns](5), float64(8), int64(2), timedelta64[ns](6)\n",
            "memory usage: 54.8 KB\n"
          ]
        }
      ]
    },
    {
      "cell_type": "code",
      "source": [
        "health_excel = healthdata.sample(10000)\n",
        "workout_excel = workoutdata.copy()\n",
        "sleep_excel = sleepdata.copy()\n",
        "\n",
        "with pd.ExcelWriter(\"lifestyle.xlsx\") as writer:\n",
        "    health_excel.to_excel(writer, sheet_name=\"health\", index=False)\n",
        "    workout_excel.to_excel(writer, sheet_name=\"workout\", index=False)\n",
        "    sleep_excel.to_excel(writer, sheet_name=\"sleep\", index=False)"
      ],
      "metadata": {
        "id": "V2Ni-NnMPpAs"
      },
      "execution_count": 77,
      "outputs": []
    },
    {
      "cell_type": "code",
      "execution_count": 78,
      "metadata": {
        "id": "SqmJFThpPoyU",
        "colab": {
          "base_uri": "https://localhost:8080/",
          "height": 308
        },
        "outputId": "aec39e86-5d68-4a1c-8cea-19e3570e4a3f"
      },
      "outputs": [
        {
          "output_type": "execute_result",
          "data": {
            "text/plain": [
              "<matplotlib.axes._subplots.AxesSubplot at 0x7eff6b142650>"
            ]
          },
          "metadata": {},
          "execution_count": 78
        },
        {
          "output_type": "display_data",
          "data": {
            "text/plain": [
              "<Figure size 432x288 with 1 Axes>"
            ],
            "image/png": "[encoded data removed]"
          },
          "metadata": {
            "needs_background": "light"
          }
        }
      ],
      "source": [
        "(\n",
        "healthdata.loc[healthdata['datatype']=='ActiveEnergyBurned']\n",
        " .groupby(pd.Grouper(key = 'creationdate',freq= '1D'))['value']\n",
        " .sum()\n",
        "#  .rolling(5)\n",
        "#  .mean()\n",
        " .plot(style = '.')\n",
        ")"
      ]
    },
    {
      "cell_type": "code",
      "execution_count": 79,
      "metadata": {
        "id": "GGUG4sXdPt49",
        "colab": {
          "base_uri": "https://localhost:8080/",
          "height": 308
        },
        "outputId": "21d4bceb-3194-43c5-f812-1df8316e8dae"
      },
      "outputs": [
        {
          "output_type": "execute_result",
          "data": {
            "text/plain": [
              "<matplotlib.axes._subplots.AxesSubplot at 0x7eff6b1d0310>"
            ]
          },
          "metadata": {},
          "execution_count": 79
        },
        {
          "output_type": "display_data",
          "data": {
            "text/plain": [
              "<Figure size 432x288 with 1 Axes>"
            ],
            "image/png": "[encoded data removed]"
          },
          "metadata": {
            "needs_background": "light"
          }
        }
      ],
      "source": [
        "(\n",
        "healthdata.loc[healthdata['datatype']=='HeartRate']\n",
        " .groupby(pd.Grouper(key = 'creationdate',freq= '1D'))['value']\n",
        " .mean()\n",
        " .rolling(10)\n",
        " .mean()\n",
        " .plot()\n",
        ")"
      ]
    },
    {
      "cell_type": "code",
      "source": [
        "healthdata.loc[healthdata['datatype']=='BodyFatPercentage']['value'].mean()"
      ],
      "metadata": {
        "colab": {
          "base_uri": "https://localhost:8080/"
        },
        "id": "YQZbsHZWWUTU",
        "outputId": "ceaee898-e486-4582-d81d-406501a8a934"
      },
      "execution_count": 80,
      "outputs": [
        {
          "output_type": "execute_result",
          "data": {
            "text/plain": [
              "0.1542784810126582"
            ]
          },
          "metadata": {},
          "execution_count": 80
        }
      ]
    },
    {
      "cell_type": "code",
      "source": [
        "(\n",
        "healthdata.loc[healthdata['datatype']=='BodyFatPercentage']\n",
        " .groupby(pd.Grouper(key = 'creationdate',freq= '1D'))['value']\n",
        " .mean().interpolate()\n",
        " .rolling(7).mean()\n",
        " .plot()\n",
        ")"
      ],
      "metadata": {
        "colab": {
          "base_uri": "https://localhost:8080/",
          "height": 308
        },
        "id": "6x7dUrtDkMpb",
        "outputId": "cb25f5f3-304b-422c-a479-555082c8c4dd"
      },
      "execution_count": 81,
      "outputs": [
        {
          "output_type": "execute_result",
          "data": {
            "text/plain": [
              "<matplotlib.axes._subplots.AxesSubplot at 0x7eff6b28f090>"
            ]
          },
          "metadata": {},
          "execution_count": 81
        },
        {
          "output_type": "display_data",
          "data": {
            "text/plain": [
              "<Figure size 432x288 with 1 Axes>"
            ],
            "image/png": "[encoded data removed]"
          },
          "metadata": {
            "needs_background": "light"
          }
        }
      ]
    },
    {
      "cell_type": "code",
      "source": [
        "health_rawsample['@type'].unique()"
      ],
      "metadata": {
        "colab": {
          "base_uri": "https://localhost:8080/"
        },
        "id": "XJKZ_YeNZZcf",
        "outputId": "bc0672c2-0c3d-4180-b60f-d9dad490de23"
      },
      "execution_count": 82,
      "outputs": [
        {
          "output_type": "execute_result",
          "data": {
            "text/plain": [
              "array(['HKQuantityTypeIdentifierHeartRate',\n",
              "       'HKQuantityTypeIdentifierActiveEnergyBurned',\n",
              "       'HKQuantityTypeIdentifierBasalEnergyBurned',\n",
              "       'HKQuantityTypeIdentifierAppleExerciseTime',\n",
              "       'HKQuantityTypeIdentifierEnvironmentalAudioExposure',\n",
              "       'HKQuantityTypeIdentifierHeadphoneAudioExposure',\n",
              "       'HKQuantityTypeIdentifierRespiratoryRate',\n",
              "       'HKQuantityTypeIdentifierAppleStandTime',\n",
              "       'HKQuantityTypeIdentifierHeartRateVariabilitySDNN',\n",
              "       'HKQuantityTypeIdentifierDistanceWalkingRunning',\n",
              "       'HKCategoryTypeIdentifierSleepAnalysis',\n",
              "       'HKCategoryTypeIdentifierAppleStandHour',\n",
              "       'HKQuantityTypeIdentifierStepCount',\n",
              "       'HKQuantityTypeIdentifierWalkingHeartRateAverage',\n",
              "       'HKQuantityTypeIdentifierWalkingStepLength',\n",
              "       'HKQuantityTypeIdentifierWalkingSpeed',\n",
              "       'HKQuantityTypeIdentifierWalkingDoubleSupportPercentage',\n",
              "       'HKQuantityTypeIdentifierWalkingAsymmetryPercentage'], dtype=object)"
            ]
          },
          "metadata": {},
          "execution_count": 82
        }
      ]
    },
    {
      "cell_type": "code",
      "source": [
        "health_rawsample.info()"
      ],
      "metadata": {
        "colab": {
          "base_uri": "https://localhost:8080/"
        },
        "id": "tV0A0TTGZx8W",
        "outputId": "07d909b5-17eb-4cb5-d027-39b420507444"
      },
      "execution_count": 83,
      "outputs": [
        {
          "output_type": "stream",
          "name": "stdout",
          "text": [
            "<class 'pandas.core.frame.DataFrame'>\n",
            "Int64Index: 1000 entries, 100269 to 461962\n",
            "Data columns (total 11 columns):\n",
            " #   Column                            Non-Null Count  Dtype \n",
            "---  ------                            --------------  ----- \n",
            " 0   @type                             1000 non-null   object\n",
            " 1   @sourceName                       1000 non-null   object\n",
            " 2   @sourceVersion                    1000 non-null   object\n",
            " 3   @unit                             983 non-null    object\n",
            " 4   @creationDate                     1000 non-null   object\n",
            " 5   @startDate                        1000 non-null   object\n",
            " 6   @endDate                          1000 non-null   object\n",
            " 7   @value                            1000 non-null   object\n",
            " 8   @device                           962 non-null    object\n",
            " 9   MetadataEntry                     154 non-null    object\n",
            " 10  HeartRateVariabilityMetadataList  3 non-null      object\n",
            "dtypes: object(11)\n",
            "memory usage: 93.8+ KB\n"
          ]
        }
      ]
    },
    {
      "cell_type": "code",
      "source": [
        "healthdata[healthdata.datatype.isin(['BodyMassIndex', 'HeartRate',\n",
        "       'RespiratoryRate', 'BodyFatPercentage', 'LeanBodyMass',\n",
        "       'StepCount', 'DistanceWalkingRunning', 'BasalEnergyBurned',\n",
        "       'ActiveEnergyBurned', \n",
        "       'RestingHeartRate', 'VO2Max', 'WalkingHeartRateAverage',\n",
        "       'AppleStandTime', 'WalkingSpeed', 'WalkingStepLength',\n",
        "       'WalkingAsymmetryPercentage', 'HKDataTypeSleepDurationGoal','HeartRateVariabilitySDNN'])]"
      ],
      "metadata": {
        "id": "O0NxbKOlsTy1",
        "colab": {
          "base_uri": "https://localhost:8080/",
          "height": 419
        },
        "outputId": "7a059f31-af65-4121-b843-d38696eb80ca"
      },
      "execution_count": 84,
      "outputs": [
        {
          "output_type": "execute_result",
          "data": {
            "text/plain": [
              "                        datatype            sourcename sourceversion   unit  \\\n",
              "0                  BodyMassIndex               Fitdays             1  count   \n",
              "1                  BodyMassIndex               Fitdays             1  count   \n",
              "2                  BodyMassIndex               Fitdays             1  count   \n",
              "3                  BodyMassIndex               Fitdays             1  count   \n",
              "4                  BodyMassIndex               Fitdays             1  count   \n",
              "...                          ...                   ...           ...    ...   \n",
              "986932  HeartRateVariabilitySDNN  Ganesh’s Apple Watch           8.7     ms   \n",
              "986933  HeartRateVariabilitySDNN  Ganesh’s Apple Watch           8.7     ms   \n",
              "986934  HeartRateVariabilitySDNN  Ganesh’s Apple Watch           8.7     ms   \n",
              "986935  HeartRateVariabilitySDNN  Ganesh’s Apple Watch           8.7     ms   \n",
              "986936  HeartRateVariabilitySDNN  Ganesh’s Apple Watch           8.7     ms   \n",
              "\n",
              "              creationdate           startdate             enddate    value  \\\n",
              "0      2021-08-08 23:38:31 2021-08-08 23:38:28 2021-08-08 23:38:28  27.0000   \n",
              "1      2021-08-11 00:17:06 2021-08-11 00:17:03 2021-08-11 00:17:03  26.7000   \n",
              "2      2021-08-13 01:09:28 2021-08-13 01:09:25 2021-08-13 01:09:25  26.6000   \n",
              "3      2021-08-15 01:10:15 2021-08-15 01:10:12 2021-08-15 01:10:12  26.5000   \n",
              "4      2021-08-16 01:35:22 2021-08-16 01:35:19 2021-08-16 01:35:19  26.4000   \n",
              "...                    ...                 ...                 ...      ...   \n",
              "986932 2022-09-09 12:06:17 2022-09-09 12:05:14 2022-09-09 12:06:13  25.0527   \n",
              "986933 2022-09-09 14:23:13 2022-09-09 14:22:10 2022-09-09 14:23:09  95.2263   \n",
              "986934 2022-09-09 16:01:44 2022-09-09 16:00:42 2022-09-09 16:01:41  38.9691   \n",
              "986935 2022-09-09 18:01:46 2022-09-09 18:00:43 2022-09-09 18:01:42  65.5212   \n",
              "986936 2022-09-09 20:07:17 2022-09-09 20:06:11 2022-09-09 20:07:10  37.0727   \n",
              "\n",
              "                                                   device  \n",
              "0                                               No device  \n",
              "1                                               No device  \n",
              "2                                               No device  \n",
              "3                                               No device  \n",
              "4                                               No device  \n",
              "...                                                   ...  \n",
              "986932  <<HKDevice: 0x281d656d0>, name:Apple Watch, ma...  \n",
              "986933  <<HKDevice: 0x281d656d0>, name:Apple Watch, ma...  \n",
              "986934  <<HKDevice: 0x281d656d0>, name:Apple Watch, ma...  \n",
              "986935  <<HKDevice: 0x281d656d0>, name:Apple Watch, ma...  \n",
              "986936  <<HKDevice: 0x281d656d0>, name:Apple Watch, ma...  \n",
              "\n",
              "[938172 rows x 9 columns]"
            ],
            "text/html": [
              "\n",
              "  <div id=\"df-097d54dc-61da-4003-ade1-9945189f00f2\">\n",
              "    <div class=\"colab-df-container\">\n",
              "      <div>\n",
              "<style scoped>\n",
              "    .dataframe tbody tr th:only-of-type {\n",
              "        vertical-align: middle;\n",
              "    }\n",
              "\n",
              "    .dataframe tbody tr th {\n",
              "        vertical-align: top;\n",
              "    }\n",
              "\n",
              "    .dataframe thead th {\n",
              "        text-align: right;\n",
              "    }\n",
              "</style>\n",
              "<table border=\"1\" class=\"dataframe\">\n",
              "  <thead>\n",
              "    <tr style=\"text-align: right;\">\n",
              "      <th></th>\n",
              "      <th>datatype</th>\n",
              "      <th>sourcename</th>\n",
              "      <th>sourceversion</th>\n",
              "      <th>unit</th>\n",
              "      <th>creationdate</th>\n",
              "      <th>startdate</th>\n",
              "      <th>enddate</th>\n",
              "      <th>value</th>\n",
              "      <th>device</th>\n",
              "    </tr>\n",
              "  </thead>\n",
              "  <tbody>\n",
              "    <tr>\n",
              "      <th>0</th>\n",
              "      <td>BodyMassIndex</td>\n",
              "      <td>Fitdays</td>\n",
              "      <td>1</td>\n",
              "      <td>count</td>\n",
              "      <td>2021-08-08 23:38:31</td>\n",
              "      <td>2021-08-08 23:38:28</td>\n",
              "      <td>2021-08-08 23:38:28</td>\n",
              "      <td>27.0000</td>\n",
              "      <td>No device</td>\n",
              "    </tr>\n",
              "    <tr>\n",
              "      <th>1</th>\n",
              "      <td>BodyMassIndex</td>\n",
              "      <td>Fitdays</td>\n",
              "      <td>1</td>\n",
              "      <td>count</td>\n",
              "      <td>2021-08-11 00:17:06</td>\n",
              "      <td>2021-08-11 00:17:03</td>\n",
              "      <td>2021-08-11 00:17:03</td>\n",
              "      <td>26.7000</td>\n",
              "      <td>No device</td>\n",
              "    </tr>\n",
              "    <tr>\n",
              "      <th>2</th>\n",
              "      <td>BodyMassIndex</td>\n",
              "      <td>Fitdays</td>\n",
              "      <td>1</td>\n",
              "      <td>count</td>\n",
              "      <td>2021-08-13 01:09:28</td>\n",
              "      <td>2021-08-13 01:09:25</td>\n",
              "      <td>2021-08-13 01:09:25</td>\n",
              "      <td>26.6000</td>\n",
              "      <td>No device</td>\n",
              "    </tr>\n",
              "    <tr>\n",
              "      <th>3</th>\n",
              "      <td>BodyMassIndex</td>\n",
              "      <td>Fitdays</td>\n",
              "      <td>1</td>\n",
              "      <td>count</td>\n",
              "      <td>2021-08-15 01:10:15</td>\n",
              "      <td>2021-08-15 01:10:12</td>\n",
              "      <td>2021-08-15 01:10:12</td>\n",
              "      <td>26.5000</td>\n",
              "      <td>No device</td>\n",
              "    </tr>\n",
              "    <tr>\n",
              "      <th>4</th>\n",
              "      <td>BodyMassIndex</td>\n",
              "      <td>Fitdays</td>\n",
              "      <td>1</td>\n",
              "      <td>count</td>\n",
              "      <td>2021-08-16 01:35:22</td>\n",
              "      <td>2021-08-16 01:35:19</td>\n",
              "      <td>2021-08-16 01:35:19</td>\n",
              "      <td>26.4000</td>\n",
              "      <td>No device</td>\n",
              "    </tr>\n",
              "    <tr>\n",
              "      <th>...</th>\n",
              "      <td>...</td>\n",
              "      <td>...</td>\n",
              "      <td>...</td>\n",
              "      <td>...</td>\n",
              "      <td>...</td>\n",
              "      <td>...</td>\n",
              "      <td>...</td>\n",
              "      <td>...</td>\n",
              "      <td>...</td>\n",
              "    </tr>\n",
              "    <tr>\n",
              "      <th>986932</th>\n",
              "      <td>HeartRateVariabilitySDNN</td>\n",
              "      <td>Ganesh’s Apple Watch</td>\n",
              "      <td>8.7</td>\n",
              "      <td>ms</td>\n",
              "      <td>2022-09-09 12:06:17</td>\n",
              "      <td>2022-09-09 12:05:14</td>\n",
              "      <td>2022-09-09 12:06:13</td>\n",
              "      <td>25.0527</td>\n",
              "      <td>&lt;&lt;HKDevice: 0x281d656d0&gt;, name:Apple Watch, ma...</td>\n",
              "    </tr>\n",
              "    <tr>\n",
              "      <th>986933</th>\n",
              "      <td>HeartRateVariabilitySDNN</td>\n",
              "      <td>Ganesh’s Apple Watch</td>\n",
              "      <td>8.7</td>\n",
              "      <td>ms</td>\n",
              "      <td>2022-09-09 14:23:13</td>\n",
              "      <td>2022-09-09 14:22:10</td>\n",
              "      <td>2022-09-09 14:23:09</td>\n",
              "      <td>95.2263</td>\n",
              "      <td>&lt;&lt;HKDevice: 0x281d656d0&gt;, name:Apple Watch, ma...</td>\n",
              "    </tr>\n",
              "    <tr>\n",
              "      <th>986934</th>\n",
              "      <td>HeartRateVariabilitySDNN</td>\n",
              "      <td>Ganesh’s Apple Watch</td>\n",
              "      <td>8.7</td>\n",
              "      <td>ms</td>\n",
              "      <td>2022-09-09 16:01:44</td>\n",
              "      <td>2022-09-09 16:00:42</td>\n",
              "      <td>2022-09-09 16:01:41</td>\n",
              "      <td>38.9691</td>\n",
              "      <td>&lt;&lt;HKDevice: 0x281d656d0&gt;, name:Apple Watch, ma...</td>\n",
              "    </tr>\n",
              "    <tr>\n",
              "      <th>986935</th>\n",
              "      <td>HeartRateVariabilitySDNN</td>\n",
              "      <td>Ganesh’s Apple Watch</td>\n",
              "      <td>8.7</td>\n",
              "      <td>ms</td>\n",
              "      <td>2022-09-09 18:01:46</td>\n",
              "      <td>2022-09-09 18:00:43</td>\n",
              "      <td>2022-09-09 18:01:42</td>\n",
              "      <td>65.5212</td>\n",
              "      <td>&lt;&lt;HKDevice: 0x281d656d0&gt;, name:Apple Watch, ma...</td>\n",
              "    </tr>\n",
              "    <tr>\n",
              "      <th>986936</th>\n",
              "      <td>HeartRateVariabilitySDNN</td>\n",
              "      <td>Ganesh’s Apple Watch</td>\n",
              "      <td>8.7</td>\n",
              "      <td>ms</td>\n",
              "      <td>2022-09-09 20:07:17</td>\n",
              "      <td>2022-09-09 20:06:11</td>\n",
              "      <td>2022-09-09 20:07:10</td>\n",
              "      <td>37.0727</td>\n",
              "      <td>&lt;&lt;HKDevice: 0x281d656d0&gt;, name:Apple Watch, ma...</td>\n",
              "    </tr>\n",
              "  </tbody>\n",
              "</table>\n",
              "<p>938172 rows × 9 columns</p>\n",
              "</div>\n",
              "      <button class=\"colab-df-convert\" onclick=\"convertToInteractive('df-097d54dc-61da-4003-ade1-9945189f00f2')\"\n",
              "              title=\"Convert this dataframe to an interactive table.\"\n",
              "              style=\"display:none;\">\n",
              "        \n",
              "  <svg xmlns=\"http://www.w3.org/2000/svg\" height=\"24px\"viewBox=\"0 0 24 24\"\n",
              "       width=\"24px\">\n",
              "    <path d=\"M0 0h24v24H0V0z\" fill=\"none\"/>\n",
              "    <path d=\"M18.56 5.44l.94 2.06.94-2.06 2.06-.94-2.06-.94-.94-2.06-.94 2.06-2.06.94zm-11 1L8.5 8.5l.94-2.06 2.06-.94-2.06-.94L8.5 2.5l-.94 2.06-2.06.94zm10 10l.94 2.06.94-2.06 2.06-.94-2.06-.94-.94-2.06-.94 2.06-2.06.94z\"/><path d=\"M17.41 7.96l-1.37-1.37c-.4-.4-.92-.59-1.43-.59-.52 0-1.04.2-1.43.59L10.3 9.45l-7.72 7.72c-.78.78-.78 2.05 0 2.83L4 21.41c.39.39.9.59 1.41.59.51 0 1.02-.2 1.41-.59l7.78-7.78 2.81-2.81c.8-.78.8-2.07 0-2.86zM5.41 20L4 18.59l7.72-7.72 1.47 1.35L5.41 20z\"/>\n",
              "  </svg>\n",
              "      </button>\n",
              "      \n",
              "  <style>\n",
              "    .colab-df-container {\n",
              "      display:flex;\n",
              "      flex-wrap:wrap;\n",
              "      gap: 12px;\n",
              "    }\n",
              "\n",
              "    .colab-df-convert {\n",
              "      background-color: #E8F0FE;\n",
              "      border: none;\n",
              "      border-radius: 50%;\n",
              "      cursor: pointer;\n",
              "      display: none;\n",
              "      fill: #1967D2;\n",
              "      height: 32px;\n",
              "      padding: 0 0 0 0;\n",
              "      width: 32px;\n",
              "    }\n",
              "\n",
              "    .colab-df-convert:hover {\n",
              "      background-color: #E2EBFA;\n",
              "      box-shadow: 0px 1px 2px rgba(60, 64, 67, 0.3), 0px 1px 3px 1px rgba(60, 64, 67, 0.15);\n",
              "      fill: #174EA6;\n",
              "    }\n",
              "\n",
              "    [theme=dark] .colab-df-convert {\n",
              "      background-color: #3B4455;\n",
              "      fill: #D2E3FC;\n",
              "    }\n",
              "\n",
              "    [theme=dark] .colab-df-convert:hover {\n",
              "      background-color: #434B5C;\n",
              "      box-shadow: 0px 1px 3px 1px rgba(0, 0, 0, 0.15);\n",
              "      filter: drop-shadow(0px 1px 2px rgba(0, 0, 0, 0.3));\n",
              "      fill: #FFFFFF;\n",
              "    }\n",
              "  </style>\n",
              "\n",
              "      <script>\n",
              "        const buttonEl =\n",
              "          document.querySelector('#df-097d54dc-61da-4003-ade1-9945189f00f2 button.colab-df-convert');\n",
              "        buttonEl.style.display =\n",
              "          google.colab.kernel.accessAllowed ? 'block' : 'none';\n",
              "\n",
              "        async function convertToInteractive(key) {\n",
              "          const element = document.querySelector('#df-097d54dc-61da-4003-ade1-9945189f00f2');\n",
              "          const dataTable =\n",
              "            await google.colab.kernel.invokeFunction('convertToInteractive',\n",
              "                                                     [key], {});\n",
              "          if (!dataTable) return;\n",
              "\n",
              "          const docLinkHtml = 'Like what you see? Visit the ' +\n",
              "            '<a target=\"_blank\" href=https://colab.research.google.com/notebooks/data_table.ipynb>data table notebook</a>'\n",
              "            + ' to learn more about interactive tables.';\n",
              "          element.innerHTML = '';\n",
              "          dataTable['output_type'] = 'display_data';\n",
              "          await google.colab.output.renderOutput(dataTable, element);\n",
              "          const docLink = document.createElement('div');\n",
              "          docLink.innerHTML = docLinkHtml;\n",
              "          element.appendChild(docLink);\n",
              "        }\n",
              "      </script>\n",
              "    </div>\n",
              "  </div>\n",
              "  "
            ]
          },
          "metadata": {},
          "execution_count": 84
        }
      ]
    },
    {
      "cell_type": "code",
      "source": [],
      "metadata": {
        "id": "aVmYRMxf0qS5"
      },
      "execution_count": 84,
      "outputs": []
    },
    {
      "cell_type": "code",
      "source": [
        "from jupyter_dash import JupyterDash\n",
        "from dash import Dash, dcc, html, Input, Output\n",
        "import plotly.graph_objects as go\n",
        "\n",
        "app = JupyterDash(__name__)\n",
        "\n",
        "app.layout = html.Div(\n",
        "    [\n",
        "        html.H4(\"Interactive color selection with simple Dash example\"),\n",
        "        html.P(\"Select color:\"),\n",
        "        dcc.Dropdown(\n",
        "            id=\"dropdown\",\n",
        "            options=[\"Gold\", \"MediumTurquoise\", \"LightGreen\"],\n",
        "            value=\"Gold\",\n",
        "            clearable=False,\n",
        "        ),\n",
        "        dcc.Graph(id=\"graph\"),\n",
        "    ]\n",
        ")\n",
        "\n",
        "\n",
        "@app.callback(\n",
        "    Output(\"graph\", \"figure\"),\n",
        "    Input(\"dropdown\", \"value\"),\n",
        ")\n",
        "def display_color(color):\n",
        "    fig = go.Figure(go.Bar(x=[\"a\", \"b\", \"c\"], y=[2, 3, 1], marker_color=color))\n",
        "    return fig\n",
        "\n",
        "\n",
        "if __name__ == \"__main__\":\n",
        "    app.run_server(debug=True, mode = 'inline', port =8030)"
      ],
      "metadata": {
        "colab": {
          "base_uri": "https://localhost:8080/",
          "height": 671
        },
        "id": "ueVcPqCOQYQ0",
        "outputId": "cbb56207-1cb9-4e2e-ca8c-b23af2ce9d93"
      },
      "execution_count": 85,
      "outputs": [
        {
          "output_type": "display_data",
          "data": {
            "text/plain": [
              "<IPython.core.display.Javascript object>"
            ],
            "application/javascript": [
              "(async (port, path, width, height, cache, element) => {\n",
              "    if (!google.colab.kernel.accessAllowed && !cache) {\n",
              "      return;\n",
              "    }\n",
              "    element.appendChild(document.createTextNode(''));\n",
              "    const url = await google.colab.kernel.proxyPort(port, {cache});\n",
              "    const iframe = document.createElement('iframe');\n",
              "    iframe.src = new URL(path, url).toString();\n",
              "    iframe.height = height;\n",
              "    iframe.width = width;\n",
              "    iframe.style.border = 0;\n",
              "    element.appendChild(iframe);\n",
              "  })(8030, \"/\", \"100%\", 650, false, window.element)"
            ]
          },
          "metadata": {}
        }
      ]
    },
    {
      "cell_type": "code",
      "source": [
        "dayname = sleepdata.set_index('maindate').index.day_name()\n",
        "dayname"
      ],
      "metadata": {
        "colab": {
          "base_uri": "https://localhost:8080/"
        },
        "id": "1QcECRKHkjEM",
        "outputId": "2e677639-ebd6-4a34-d184-db4a3dd4863f"
      },
      "execution_count": 86,
      "outputs": [
        {
          "output_type": "execute_result",
          "data": {
            "text/plain": [
              "Index(['Saturday', 'Sunday', 'Monday', 'Tuesday', 'Wednesday', 'Thursday',\n",
              "       'Friday', 'Saturday', 'Sunday', 'Monday',\n",
              "       ...\n",
              "       'Thursday', 'Friday', 'Saturday', 'Sunday', 'Monday', 'Tuesday',\n",
              "       'Wednesday', 'Thursday', 'Friday', 'Saturday'],\n",
              "      dtype='object', name='maindate', length=333)"
            ]
          },
          "metadata": {},
          "execution_count": 86
        }
      ]
    },
    {
      "cell_type": "code",
      "source": [
        "(\n",
        "    sleepdata.set_index('maindate').loc[dayname=='Saturday']\n",
        "    #.groupby()\n",
        "    [['asleep', 'quality', 'deep']]\n",
        "     #.fillna('mean')\n",
        "    #.mean()\n",
        "    .apply(lambda x: x.dt.seconds)\n",
        "    .rolling(5).mean()\n",
        "    .interpolate()\n",
        "    .plot()\n",
        ")\n"
      ],
      "metadata": {
        "colab": {
          "base_uri": "https://localhost:8080/",
          "height": 294
        },
        "id": "7O-9RPhlZaAL",
        "outputId": "af6b051e-9c8b-42e0-d13a-0e0fd9187e9b"
      },
      "execution_count": 87,
      "outputs": [
        {
          "output_type": "execute_result",
          "data": {
            "text/plain": [
              "<matplotlib.axes._subplots.AxesSubplot at 0x7eff6b32dfd0>"
            ]
          },
          "metadata": {},
          "execution_count": 87
        },
        {
          "output_type": "display_data",
          "data": {
            "text/plain": [
              "<Figure size 432x288 with 1 Axes>"
            ],
            "image/png": "[encoded data removed]"
          },
          "metadata": {
            "needs_background": "light"
          }
        }
      ]
    },
    {
      "cell_type": "code",
      "source": [
        "sleepdata['maindate'].dt.month_name().unique()\n",
        "(\n",
        "    (sleepdata\n",
        "        .groupby([sleepdata['maindate'].dt.month_name(),sleepdata['maindate'].dt.day_name()])['asleep']\n",
        "        .mean().dt.seconds/3600)\n",
        "        .unstack().reset_index()\n",
        "        \n",
        ")"
      ],
      "metadata": {
        "colab": {
          "base_uri": "https://localhost:8080/",
          "height": 421
        },
        "id": "2THkEWWdX60k",
        "outputId": "23acb39a-d35d-42f1-8e12-6bb3c305be4f"
      },
      "execution_count": 88,
      "outputs": [
        {
          "output_type": "execute_result",
          "data": {
            "text/plain": [
              "maindate   maindate    Friday    Monday  Saturday    Sunday  Thursday  \\\n",
              "0             April  6.700000  7.766667  6.376667  6.033333  7.220833   \n",
              "1            August  7.445833  7.450000  7.562500  6.470833  8.541667   \n",
              "2          December  6.613333  6.958333  6.350000  5.916667  6.093333   \n",
              "3          February  6.237500  5.454167  6.587500  8.020833  6.037500   \n",
              "4           January  7.658333  6.613333  6.746667  6.600000  6.183333   \n",
              "5              July  7.620833  8.833333  6.595833  6.586667  6.938889   \n",
              "6              June  6.750000  6.466667  6.545833  6.958333  7.253333   \n",
              "7             March  6.654167  7.200000  6.779167  6.445833  6.396667   \n",
              "8               May  6.777778  6.816667  7.704167  7.096667  7.283333   \n",
              "9          November  6.650000  6.260000  5.929167  6.458333  5.766667   \n",
              "10          October  5.072222  6.783333  7.391667  5.633333  7.105556   \n",
              "11        September  7.308333  8.183333  5.091667  7.683333  7.208333   \n",
              "\n",
              "maindate   Tuesday  Wednesday  \n",
              "0         7.504167   5.966667  \n",
              "1         7.550000   7.266667  \n",
              "2         4.979167   7.183333  \n",
              "3         7.862500   6.100000  \n",
              "4         7.270833   7.187500  \n",
              "5         7.033333   7.958333  \n",
              "6         6.691667   7.123333  \n",
              "7         6.946667   6.570000  \n",
              "8         7.163333   6.754167  \n",
              "9         7.216667   6.441667  \n",
              "10        6.894444   6.816667  \n",
              "11        6.950000   9.083333  "
            ],
            "text/html": [
              "\n",
              "  <div id=\"df-217c6e41-b69c-4d09-8daf-8a045b6c88aa\">\n",
              "    <div class=\"colab-df-container\">\n",
              "      <div>\n",
              "<style scoped>\n",
              "    .dataframe tbody tr th:only-of-type {\n",
              "        vertical-align: middle;\n",
              "    }\n",
              "\n",
              "    .dataframe tbody tr th {\n",
              "        vertical-align: top;\n",
              "    }\n",
              "\n",
              "    .dataframe thead th {\n",
              "        text-align: right;\n",
              "    }\n",
              "</style>\n",
              "<table border=\"1\" class=\"dataframe\">\n",
              "  <thead>\n",
              "    <tr style=\"text-align: right;\">\n",
              "      <th>maindate</th>\n",
              "      <th>maindate</th>\n",
              "      <th>Friday</th>\n",
              "      <th>Monday</th>\n",
              "      <th>Saturday</th>\n",
              "      <th>Sunday</th>\n",
              "      <th>Thursday</th>\n",
              "      <th>Tuesday</th>\n",
              "      <th>Wednesday</th>\n",
              "    </tr>\n",
              "  </thead>\n",
              "  <tbody>\n",
              "    <tr>\n",
              "      <th>0</th>\n",
              "      <td>April</td>\n",
              "      <td>6.700000</td>\n",
              "      <td>7.766667</td>\n",
              "      <td>6.376667</td>\n",
              "      <td>6.033333</td>\n",
              "      <td>7.220833</td>\n",
              "      <td>7.504167</td>\n",
              "      <td>5.966667</td>\n",
              "    </tr>\n",
              "    <tr>\n",
              "      <th>1</th>\n",
              "      <td>August</td>\n",
              "      <td>7.445833</td>\n",
              "      <td>7.450000</td>\n",
              "      <td>7.562500</td>\n",
              "      <td>6.470833</td>\n",
              "      <td>8.541667</td>\n",
              "      <td>7.550000</td>\n",
              "      <td>7.266667</td>\n",
              "    </tr>\n",
              "    <tr>\n",
              "      <th>2</th>\n",
              "      <td>December</td>\n",
              "      <td>6.613333</td>\n",
              "      <td>6.958333</td>\n",
              "      <td>6.350000</td>\n",
              "      <td>5.916667</td>\n",
              "      <td>6.093333</td>\n",
              "      <td>4.979167</td>\n",
              "      <td>7.183333</td>\n",
              "    </tr>\n",
              "    <tr>\n",
              "      <th>3</th>\n",
              "      <td>February</td>\n",
              "      <td>6.237500</td>\n",
              "      <td>5.454167</td>\n",
              "      <td>6.587500</td>\n",
              "      <td>8.020833</td>\n",
              "      <td>6.037500</td>\n",
              "      <td>7.862500</td>\n",
              "      <td>6.100000</td>\n",
              "    </tr>\n",
              "    <tr>\n",
              "      <th>4</th>\n",
              "      <td>January</td>\n",
              "      <td>7.658333</td>\n",
              "      <td>6.613333</td>\n",
              "      <td>6.746667</td>\n",
              "      <td>6.600000</td>\n",
              "      <td>6.183333</td>\n",
              "      <td>7.270833</td>\n",
              "      <td>7.187500</td>\n",
              "    </tr>\n",
              "    <tr>\n",
              "      <th>5</th>\n",
              "      <td>July</td>\n",
              "      <td>7.620833</td>\n",
              "      <td>8.833333</td>\n",
              "      <td>6.595833</td>\n",
              "      <td>6.586667</td>\n",
              "      <td>6.938889</td>\n",
              "      <td>7.033333</td>\n",
              "      <td>7.958333</td>\n",
              "    </tr>\n",
              "    <tr>\n",
              "      <th>6</th>\n",
              "      <td>June</td>\n",
              "      <td>6.750000</td>\n",
              "      <td>6.466667</td>\n",
              "      <td>6.545833</td>\n",
              "      <td>6.958333</td>\n",
              "      <td>7.253333</td>\n",
              "      <td>6.691667</td>\n",
              "      <td>7.123333</td>\n",
              "    </tr>\n",
              "    <tr>\n",
              "      <th>7</th>\n",
              "      <td>March</td>\n",
              "      <td>6.654167</td>\n",
              "      <td>7.200000</td>\n",
              "      <td>6.779167</td>\n",
              "      <td>6.445833</td>\n",
              "      <td>6.396667</td>\n",
              "      <td>6.946667</td>\n",
              "      <td>6.570000</td>\n",
              "    </tr>\n",
              "    <tr>\n",
              "      <th>8</th>\n",
              "      <td>May</td>\n",
              "      <td>6.777778</td>\n",
              "      <td>6.816667</td>\n",
              "      <td>7.704167</td>\n",
              "      <td>7.096667</td>\n",
              "      <td>7.283333</td>\n",
              "      <td>7.163333</td>\n",
              "      <td>6.754167</td>\n",
              "    </tr>\n",
              "    <tr>\n",
              "      <th>9</th>\n",
              "      <td>November</td>\n",
              "      <td>6.650000</td>\n",
              "      <td>6.260000</td>\n",
              "      <td>5.929167</td>\n",
              "      <td>6.458333</td>\n",
              "      <td>5.766667</td>\n",
              "      <td>7.216667</td>\n",
              "      <td>6.441667</td>\n",
              "    </tr>\n",
              "    <tr>\n",
              "      <th>10</th>\n",
              "      <td>October</td>\n",
              "      <td>5.072222</td>\n",
              "      <td>6.783333</td>\n",
              "      <td>7.391667</td>\n",
              "      <td>5.633333</td>\n",
              "      <td>7.105556</td>\n",
              "      <td>6.894444</td>\n",
              "      <td>6.816667</td>\n",
              "    </tr>\n",
              "    <tr>\n",
              "      <th>11</th>\n",
              "      <td>September</td>\n",
              "      <td>7.308333</td>\n",
              "      <td>8.183333</td>\n",
              "      <td>5.091667</td>\n",
              "      <td>7.683333</td>\n",
              "      <td>7.208333</td>\n",
              "      <td>6.950000</td>\n",
              "      <td>9.083333</td>\n",
              "    </tr>\n",
              "  </tbody>\n",
              "</table>\n",
              "</div>\n",
              "      <button class=\"colab-df-convert\" onclick=\"convertToInteractive('df-217c6e41-b69c-4d09-8daf-8a045b6c88aa')\"\n",
              "              title=\"Convert this dataframe to an interactive table.\"\n",
              "              style=\"display:none;\">\n",
              "        \n",
              "  <svg xmlns=\"http://www.w3.org/2000/svg\" height=\"24px\"viewBox=\"0 0 24 24\"\n",
              "       width=\"24px\">\n",
              "    <path d=\"M0 0h24v24H0V0z\" fill=\"none\"/>\n",
              "    <path d=\"M18.56 5.44l.94 2.06.94-2.06 2.06-.94-2.06-.94-.94-2.06-.94 2.06-2.06.94zm-11 1L8.5 8.5l.94-2.06 2.06-.94-2.06-.94L8.5 2.5l-.94 2.06-2.06.94zm10 10l.94 2.06.94-2.06 2.06-.94-2.06-.94-.94-2.06-.94 2.06-2.06.94z\"/><path d=\"M17.41 7.96l-1.37-1.37c-.4-.4-.92-.59-1.43-.59-.52 0-1.04.2-1.43.59L10.3 9.45l-7.72 7.72c-.78.78-.78 2.05 0 2.83L4 21.41c.39.39.9.59 1.41.59.51 0 1.02-.2 1.41-.59l7.78-7.78 2.81-2.81c.8-.78.8-2.07 0-2.86zM5.41 20L4 18.59l7.72-7.72 1.47 1.35L5.41 20z\"/>\n",
              "  </svg>\n",
              "      </button>\n",
              "      \n",
              "  <style>\n",
              "    .colab-df-container {\n",
              "      display:flex;\n",
              "      flex-wrap:wrap;\n",
              "      gap: 12px;\n",
              "    }\n",
              "\n",
              "    .colab-df-convert {\n",
              "      background-color: #E8F0FE;\n",
              "      border: none;\n",
              "      border-radius: 50%;\n",
              "      cursor: pointer;\n",
              "      display: none;\n",
              "      fill: #1967D2;\n",
              "      height: 32px;\n",
              "      padding: 0 0 0 0;\n",
              "      width: 32px;\n",
              "    }\n",
              "\n",
              "    .colab-df-convert:hover {\n",
              "      background-color: #E2EBFA;\n",
              "      box-shadow: 0px 1px 2px rgba(60, 64, 67, 0.3), 0px 1px 3px 1px rgba(60, 64, 67, 0.15);\n",
              "      fill: #174EA6;\n",
              "    }\n",
              "\n",
              "    [theme=dark] .colab-df-convert {\n",
              "      background-color: #3B4455;\n",
              "      fill: #D2E3FC;\n",
              "    }\n",
              "\n",
              "    [theme=dark] .colab-df-convert:hover {\n",
              "      background-color: #434B5C;\n",
              "      box-shadow: 0px 1px 3px 1px rgba(0, 0, 0, 0.15);\n",
              "      filter: drop-shadow(0px 1px 2px rgba(0, 0, 0, 0.3));\n",
              "      fill: #FFFFFF;\n",
              "    }\n",
              "  </style>\n",
              "\n",
              "      <script>\n",
              "        const buttonEl =\n",
              "          document.querySelector('#df-217c6e41-b69c-4d09-8daf-8a045b6c88aa button.colab-df-convert');\n",
              "        buttonEl.style.display =\n",
              "          google.colab.kernel.accessAllowed ? 'block' : 'none';\n",
              "\n",
              "        async function convertToInteractive(key) {\n",
              "          const element = document.querySelector('#df-217c6e41-b69c-4d09-8daf-8a045b6c88aa');\n",
              "          const dataTable =\n",
              "            await google.colab.kernel.invokeFunction('convertToInteractive',\n",
              "                                                     [key], {});\n",
              "          if (!dataTable) return;\n",
              "\n",
              "          const docLinkHtml = 'Like what you see? Visit the ' +\n",
              "            '<a target=\"_blank\" href=https://colab.research.google.com/notebooks/data_table.ipynb>data table notebook</a>'\n",
              "            + ' to learn more about interactive tables.';\n",
              "          element.innerHTML = '';\n",
              "          dataTable['output_type'] = 'display_data';\n",
              "          await google.colab.output.renderOutput(dataTable, element);\n",
              "          const docLink = document.createElement('div');\n",
              "          docLink.innerHTML = docLinkHtml;\n",
              "          element.appendChild(docLink);\n",
              "        }\n",
              "      </script>\n",
              "    </div>\n",
              "  </div>\n",
              "  "
            ]
          },
          "metadata": {},
          "execution_count": 88
        }
      ]
    },
    {
      "cell_type": "code",
      "source": [
        "sleepdata['maindate'].dt.day_name().unique()\n",
        "\n",
        "weekdaysleep = sleepdata.groupby(sleepdata['maindate'].dt.day_name())['asleep'].mean().dt.seconds/3600\n",
        "weekdaysleep"
      ],
      "metadata": {
        "id": "oAw_mOXlRPOR",
        "colab": {
          "base_uri": "https://localhost:8080/"
        },
        "outputId": "d0eefa6b-301d-4eb5-b4e6-c4b6845ba908"
      },
      "execution_count": 89,
      "outputs": [
        {
          "output_type": "execute_result",
          "data": {
            "text/plain": [
              "maindate\n",
              "Friday       6.800000\n",
              "Monday       6.978056\n",
              "Saturday     6.699444\n",
              "Sunday       6.600833\n",
              "Thursday     6.795556\n",
              "Tuesday      7.028611\n",
              "Wednesday    6.914167\n",
              "Name: asleep, dtype: float64"
            ]
          },
          "metadata": {},
          "execution_count": 89
        }
      ]
    },
    {
      "cell_type": "code",
      "source": [
        "go.Figure(go.Bar(x=weekdaysleep.index, y=weekdaysleep, marker_color = 'blue'))"
      ],
      "metadata": {
        "colab": {
          "base_uri": "https://localhost:8080/",
          "height": 542
        },
        "id": "YNL16Up9U-7G",
        "outputId": "425413dc-a98b-4898-fb2b-fd80c2b55734"
      },
      "execution_count": 90,
      "outputs": [
        {
          "output_type": "display_data",
          "data": {
            "text/html": [
              "<html>\n",
              "<head><meta charset=\"utf-8\" /></head>\n",
              "<body>\n",
              "    <div>            <script src=\"https://cdnjs.cloudflare.com/ajax/libs/mathjax/2.7.5/MathJax.js?config=TeX-AMS-MML_SVG\"></script><script type=\"text/javascript\">if (window.MathJax) {MathJax.Hub.Config({SVG: {font: \"STIX-Web\"}});}</script>                <script type=\"text/javascript\">window.PlotlyConfig = {MathJaxConfig: 'local'};</script>\n",
              "        <script src=\"https://cdn.plot.ly/plotly-2.8.3.min.js\"></script>                <div id=\"d185fec6-6521-49f4-ad91-b47024b69e5f\" class=\"plotly-graph-div\" style=\"height:525px; width:100%;\"></div>            <script type=\"text/javascript\">                                    window.PLOTLYENV=window.PLOTLYENV || {};                                    if (document.getElementById(\"d185fec6-6521-49f4-ad91-b47024b69e5f\")) {                    Plotly.newPlot(                        \"d185fec6-6521-49f4-ad91-b47024b69e5f\",                        [{\"marker\":{\"color\":\"blue\"},\"x\":[\"Friday\",\"Monday\",\"Saturday\",\"Sunday\",\"Thursday\",\"Tuesday\",\"Wednesday\"],\"y\":[6.8,6.978055555555556,6.6994444444444445,6.600833333333333,6.795555555555556,7.028611111111111,6.914166666666667],\"type\":\"bar\"}],                        {\"template\":{\"data\":{\"bar\":[{\"error_x\":{\"color\":\"#2a3f5f\"},\"error_y\":{\"color\":\"#2a3f5f\"},\"marker\":{\"line\":{\"color\":\"#E5ECF6\",\"width\":0.5},\"pattern\":{\"fillmode\":\"overlay\",\"size\":10,\"solidity\":0.2}},\"type\":\"bar\"}],\"barpolar\":[{\"marker\":{\"line\":{\"color\":\"#E5ECF6\",\"width\":0.5},\"pattern\":{\"fillmode\":\"overlay\",\"size\":10,\"solidity\":0.2}},\"type\":\"barpolar\"}],\"carpet\":[{\"aaxis\":{\"endlinecolor\":\"#2a3f5f\",\"gridcolor\":\"white\",\"linecolor\":\"white\",\"minorgridcolor\":\"white\",\"startlinecolor\":\"#2a3f5f\"},\"baxis\":{\"endlinecolor\":\"#2a3f5f\",\"gridcolor\":\"white\",\"linecolor\":\"white\",\"minorgridcolor\":\"white\",\"startlinecolor\":\"#2a3f5f\"},\"type\":\"carpet\"}],\"choropleth\":[{\"colorbar\":{\"outlinewidth\":0,\"ticks\":\"\"},\"type\":\"choropleth\"}],\"contour\":[{\"colorbar\":{\"outlinewidth\":0,\"ticks\":\"\"},\"colorscale\":[[0.0,\"#0d0887\"],[0.1111111111111111,\"#46039f\"],[0.2222222222222222,\"#7201a8\"],[0.3333333333333333,\"#9c179e\"],[0.4444444444444444,\"#bd3786\"],[0.5555555555555556,\"#d8576b\"],[0.6666666666666666,\"#ed7953\"],[0.7777777777777778,\"#fb9f3a\"],[0.8888888888888888,\"#fdca26\"],[1.0,\"#f0f921\"]],\"type\":\"contour\"}],\"contourcarpet\":[{\"colorbar\":{\"outlinewidth\":0,\"ticks\":\"\"},\"type\":\"contourcarpet\"}],\"heatmap\":[{\"colorbar\":{\"outlinewidth\":0,\"ticks\":\"\"},\"colorscale\":[[0.0,\"#0d0887\"],[0.1111111111111111,\"#46039f\"],[0.2222222222222222,\"#7201a8\"],[0.3333333333333333,\"#9c179e\"],[0.4444444444444444,\"#bd3786\"],[0.5555555555555556,\"#d8576b\"],[0.6666666666666666,\"#ed7953\"],[0.7777777777777778,\"#fb9f3a\"],[0.8888888888888888,\"#fdca26\"],[1.0,\"#f0f921\"]],\"type\":\"heatmap\"}],\"heatmapgl\":[{\"colorbar\":{\"outlinewidth\":0,\"ticks\":\"\"},\"colorscale\":[[0.0,\"#0d0887\"],[0.1111111111111111,\"#46039f\"],[0.2222222222222222,\"#7201a8\"],[0.3333333333333333,\"#9c179e\"],[0.4444444444444444,\"#bd3786\"],[0.5555555555555556,\"#d8576b\"],[0.6666666666666666,\"#ed7953\"],[0.7777777777777778,\"#fb9f3a\"],[0.8888888888888888,\"#fdca26\"],[1.0,\"#f0f921\"]],\"type\":\"heatmapgl\"}],\"histogram\":[{\"marker\":{\"pattern\":{\"fillmode\":\"overlay\",\"size\":10,\"solidity\":0.2}},\"type\":\"histogram\"}],\"histogram2d\":[{\"colorbar\":{\"outlinewidth\":0,\"ticks\":\"\"},\"colorscale\":[[0.0,\"#0d0887\"],[0.1111111111111111,\"#46039f\"],[0.2222222222222222,\"#7201a8\"],[0.3333333333333333,\"#9c179e\"],[0.4444444444444444,\"#bd3786\"],[0.5555555555555556,\"#d8576b\"],[0.6666666666666666,\"#ed7953\"],[0.7777777777777778,\"#fb9f3a\"],[0.8888888888888888,\"#fdca26\"],[1.0,\"#f0f921\"]],\"type\":\"histogram2d\"}],\"histogram2dcontour\":[{\"colorbar\":{\"outlinewidth\":0,\"ticks\":\"\"},\"colorscale\":[[0.0,\"#0d0887\"],[0.1111111111111111,\"#46039f\"],[0.2222222222222222,\"#7201a8\"],[0.3333333333333333,\"#9c179e\"],[0.4444444444444444,\"#bd3786\"],[0.5555555555555556,\"#d8576b\"],[0.6666666666666666,\"#ed7953\"],[0.7777777777777778,\"#fb9f3a\"],[0.8888888888888888,\"#fdca26\"],[1.0,\"#f0f921\"]],\"type\":\"histogram2dcontour\"}],\"mesh3d\":[{\"colorbar\":{\"outlinewidth\":0,\"ticks\":\"\"},\"type\":\"mesh3d\"}],\"parcoords\":[{\"line\":{\"colorbar\":{\"outlinewidth\":0,\"ticks\":\"\"}},\"type\":\"parcoords\"}],\"pie\":[{\"automargin\":true,\"type\":\"pie\"}],\"scatter\":[{\"marker\":{\"colorbar\":{\"outlinewidth\":0,\"ticks\":\"\"}},\"type\":\"scatter\"}],\"scatter3d\":[{\"line\":{\"colorbar\":{\"outlinewidth\":0,\"ticks\":\"\"}},\"marker\":{\"colorbar\":{\"outlinewidth\":0,\"ticks\":\"\"}},\"type\":\"scatter3d\"}],\"scattercarpet\":[{\"marker\":{\"colorbar\":{\"outlinewidth\":0,\"ticks\":\"\"}},\"type\":\"scattercarpet\"}],\"scattergeo\":[{\"marker\":{\"colorbar\":{\"outlinewidth\":0,\"ticks\":\"\"}},\"type\":\"scattergeo\"}],\"scattergl\":[{\"marker\":{\"colorbar\":{\"outlinewidth\":0,\"ticks\":\"\"}},\"type\":\"scattergl\"}],\"scattermapbox\":[{\"marker\":{\"colorbar\":{\"outlinewidth\":0,\"ticks\":\"\"}},\"type\":\"scattermapbox\"}],\"scatterpolar\":[{\"marker\":{\"colorbar\":{\"outlinewidth\":0,\"ticks\":\"\"}},\"type\":\"scatterpolar\"}],\"scatterpolargl\":[{\"marker\":{\"colorbar\":{\"outlinewidth\":0,\"ticks\":\"\"}},\"type\":\"scatterpolargl\"}],\"scatterternary\":[{\"marker\":{\"colorbar\":{\"outlinewidth\":0,\"ticks\":\"\"}},\"type\":\"scatterternary\"}],\"surface\":[{\"colorbar\":{\"outlinewidth\":0,\"ticks\":\"\"},\"colorscale\":[[0.0,\"#0d0887\"],[0.1111111111111111,\"#46039f\"],[0.2222222222222222,\"#7201a8\"],[0.3333333333333333,\"#9c179e\"],[0.4444444444444444,\"#bd3786\"],[0.5555555555555556,\"#d8576b\"],[0.6666666666666666,\"#ed7953\"],[0.7777777777777778,\"#fb9f3a\"],[0.8888888888888888,\"#fdca26\"],[1.0,\"#f0f921\"]],\"type\":\"surface\"}],\"table\":[{\"cells\":{\"fill\":{\"color\":\"#EBF0F8\"},\"line\":{\"color\":\"white\"}},\"header\":{\"fill\":{\"color\":\"#C8D4E3\"},\"line\":{\"color\":\"white\"}},\"type\":\"table\"}]},\"layout\":{\"annotationdefaults\":{\"arrowcolor\":\"#2a3f5f\",\"arrowhead\":0,\"arrowwidth\":1},\"autotypenumbers\":\"strict\",\"coloraxis\":{\"colorbar\":{\"outlinewidth\":0,\"ticks\":\"\"}},\"colorscale\":{\"diverging\":[[0,\"#8e0152\"],[0.1,\"#c51b7d\"],[0.2,\"#de77ae\"],[0.3,\"#f1b6da\"],[0.4,\"#fde0ef\"],[0.5,\"#f7f7f7\"],[0.6,\"#e6f5d0\"],[0.7,\"#b8e186\"],[0.8,\"#7fbc41\"],[0.9,\"#4d9221\"],[1,\"#276419\"]],\"sequential\":[[0.0,\"#0d0887\"],[0.1111111111111111,\"#46039f\"],[0.2222222222222222,\"#7201a8\"],[0.3333333333333333,\"#9c179e\"],[0.4444444444444444,\"#bd3786\"],[0.5555555555555556,\"#d8576b\"],[0.6666666666666666,\"#ed7953\"],[0.7777777777777778,\"#fb9f3a\"],[0.8888888888888888,\"#fdca26\"],[1.0,\"#f0f921\"]],\"sequentialminus\":[[0.0,\"#0d0887\"],[0.1111111111111111,\"#46039f\"],[0.2222222222222222,\"#7201a8\"],[0.3333333333333333,\"#9c179e\"],[0.4444444444444444,\"#bd3786\"],[0.5555555555555556,\"#d8576b\"],[0.6666666666666666,\"#ed7953\"],[0.7777777777777778,\"#fb9f3a\"],[0.8888888888888888,\"#fdca26\"],[1.0,\"#f0f921\"]]},\"colorway\":[\"#636efa\",\"#EF553B\",\"#00cc96\",\"#ab63fa\",\"#FFA15A\",\"#19d3f3\",\"#FF6692\",\"#B6E880\",\"#FF97FF\",\"#FECB52\"],\"font\":{\"color\":\"#2a3f5f\"},\"geo\":{\"bgcolor\":\"white\",\"lakecolor\":\"white\",\"landcolor\":\"#E5ECF6\",\"showlakes\":true,\"showland\":true,\"subunitcolor\":\"white\"},\"hoverlabel\":{\"align\":\"left\"},\"hovermode\":\"closest\",\"mapbox\":{\"style\":\"light\"},\"paper_bgcolor\":\"white\",\"plot_bgcolor\":\"#E5ECF6\",\"polar\":{\"angularaxis\":{\"gridcolor\":\"white\",\"linecolor\":\"white\",\"ticks\":\"\"},\"bgcolor\":\"#E5ECF6\",\"radialaxis\":{\"gridcolor\":\"white\",\"linecolor\":\"white\",\"ticks\":\"\"}},\"scene\":{\"xaxis\":{\"backgroundcolor\":\"#E5ECF6\",\"gridcolor\":\"white\",\"gridwidth\":2,\"linecolor\":\"white\",\"showbackground\":true,\"ticks\":\"\",\"zerolinecolor\":\"white\"},\"yaxis\":{\"backgroundcolor\":\"#E5ECF6\",\"gridcolor\":\"white\",\"gridwidth\":2,\"linecolor\":\"white\",\"showbackground\":true,\"ticks\":\"\",\"zerolinecolor\":\"white\"},\"zaxis\":{\"backgroundcolor\":\"#E5ECF6\",\"gridcolor\":\"white\",\"gridwidth\":2,\"linecolor\":\"white\",\"showbackground\":true,\"ticks\":\"\",\"zerolinecolor\":\"white\"}},\"shapedefaults\":{\"line\":{\"color\":\"#2a3f5f\"}},\"ternary\":{\"aaxis\":{\"gridcolor\":\"white\",\"linecolor\":\"white\",\"ticks\":\"\"},\"baxis\":{\"gridcolor\":\"white\",\"linecolor\":\"white\",\"ticks\":\"\"},\"bgcolor\":\"#E5ECF6\",\"caxis\":{\"gridcolor\":\"white\",\"linecolor\":\"white\",\"ticks\":\"\"}},\"title\":{\"x\":0.05},\"xaxis\":{\"automargin\":true,\"gridcolor\":\"white\",\"linecolor\":\"white\",\"ticks\":\"\",\"title\":{\"standoff\":15},\"zerolinecolor\":\"white\",\"zerolinewidth\":2},\"yaxis\":{\"automargin\":true,\"gridcolor\":\"white\",\"linecolor\":\"white\",\"ticks\":\"\",\"title\":{\"standoff\":15},\"zerolinecolor\":\"white\",\"zerolinewidth\":2}}}},                        {\"responsive\": true}                    ).then(function(){\n",
              "                            \n",
              "var gd = document.getElementById('d185fec6-6521-49f4-ad91-b47024b69e5f');\n",
              "var x = new MutationObserver(function (mutations, observer) {{\n",
              "        var display = window.getComputedStyle(gd).display;\n",
              "        if (!display || display === 'none') {{\n",
              "            console.log([gd, 'removed!']);\n",
              "            Plotly.purge(gd);\n",
              "            observer.disconnect();\n",
              "        }}\n",
              "}});\n",
              "\n",
              "// Listen for the removal of the full notebook cells\n",
              "var notebookContainer = gd.closest('#notebook-container');\n",
              "if (notebookContainer) {{\n",
              "    x.observe(notebookContainer, {childList: true});\n",
              "}}\n",
              "\n",
              "// Listen for the clearing of the current output cell\n",
              "var outputEl = gd.closest('.output');\n",
              "if (outputEl) {{\n",
              "    x.observe(outputEl, {childList: true});\n",
              "}}\n",
              "\n",
              "                        })                };                            </script>        </div>\n",
              "</body>\n",
              "</html>"
            ]
          },
          "metadata": {}
        }
      ]
    },
    {
      "cell_type": "code",
      "source": [
        "app = JupyterDash(__name__)\n",
        "\n",
        "weekdays = sleepdata['maindate'].dt.day_name().unique()\n",
        "\n",
        "app.layout = html.Div(\n",
        "    [\n",
        "        html.H4(\"Interactive color selection with simple Dash example\"),\n",
        "        html.P(\"Select color:\"),\n",
        "        dcc.Dropdown(\n",
        "            id=\"dropdown\",\n",
        "            options=weekdays,\n",
        "            value=weekdays[0],\n",
        "            clearable=False,\n",
        "        ),\n",
        "        dcc.Graph(id=\"graph\"),\n",
        "    ]\n",
        ")\n",
        "\n",
        "\n",
        "@app.callback(\n",
        "    Output(\"graph\", \"figure\"),\n",
        "    Input(\"dropdown\", \"value\"),\n",
        ")\n",
        "def display_color(color):\n",
        "    fig = go.Figure(go.Bar(x=[\"a\", \"b\", \"c\"], y=[2, 3, 1], marker_color=color))\n",
        "    return fig\n",
        "\n",
        "\n",
        "if __name__ == \"__main__\":\n",
        "    app.run_server(debug=True, mode = 'inline', port =8030)"
      ],
      "metadata": {
        "colab": {
          "base_uri": "https://localhost:8080/",
          "height": 671
        },
        "id": "SEizW4bdS9tv",
        "outputId": "d3da0a9f-43ec-4e56-c06f-b00557fe7fb6"
      },
      "execution_count": 91,
      "outputs": [
        {
          "output_type": "display_data",
          "data": {
            "text/plain": [
              "<IPython.core.display.Javascript object>"
            ],
            "application/javascript": [
              "(async (port, path, width, height, cache, element) => {\n",
              "    if (!google.colab.kernel.accessAllowed && !cache) {\n",
              "      return;\n",
              "    }\n",
              "    element.appendChild(document.createTextNode(''));\n",
              "    const url = await google.colab.kernel.proxyPort(port, {cache});\n",
              "    const iframe = document.createElement('iframe');\n",
              "    iframe.src = new URL(path, url).toString();\n",
              "    iframe.height = height;\n",
              "    iframe.width = width;\n",
              "    iframe.style.border = 0;\n",
              "    element.appendChild(iframe);\n",
              "  })(8030, \"/\", \"100%\", 650, false, window.element)"
            ]
          },
          "metadata": {}
        }
      ]
    },
    {
      "cell_type": "code",
      "source": [
        "(\n",
        "    sleepdata\n",
        "        .rename(columns={'maindate':'creationdate'})\n",
        "        .set_index('creationdate')\n",
        ")"
      ],
      "metadata": {
        "colab": {
          "base_uri": "https://localhost:8080/",
          "height": 854
        },
        "id": "xn2fsg7UUJc1",
        "outputId": "becd4075-8720-4874-bbd0-851ed2b36054"
      },
      "execution_count": 92,
      "outputs": [
        {
          "output_type": "execute_result",
          "data": {
            "text/plain": [
              "               fromdate     todate             bedtime            waketime  \\\n",
              "creationdate                                                                 \n",
              "2021-10-09   2021-10-08 2021-10-09 2021-10-08 22:51:00 2021-10-09 05:36:00   \n",
              "2021-10-10   2021-10-09 2021-10-10 2021-10-09 22:45:00 2021-10-10 03:46:00   \n",
              "2021-10-11   2021-10-10 2021-10-11 2021-10-10 20:56:00 2021-10-11 06:35:00   \n",
              "2021-10-12   2021-10-11 2021-10-12 2021-10-11 22:00:00 2021-10-12 05:21:00   \n",
              "2021-10-13   2021-10-12 2021-10-13 2021-10-12 22:45:00 2021-10-13 04:41:00   \n",
              "...                 ...        ...                 ...                 ...   \n",
              "2022-09-06   2022-09-05 2022-09-06 2022-09-05 21:47:00 2022-09-06 04:44:00   \n",
              "2022-09-07   2022-09-06 2022-09-07 2022-09-06 20:45:00 2022-09-07 06:23:00   \n",
              "2022-09-08   2022-09-07 2022-09-08 2022-09-07 20:30:00 2022-09-08 06:16:00   \n",
              "2022-09-09   2022-09-08 2022-09-09 2022-09-08 23:00:00 2022-09-09 06:10:00   \n",
              "2022-09-10   2022-09-09 2022-09-10 2022-09-09 20:30:00 2022-09-10 01:13:00   \n",
              "\n",
              "                       inbed           awake fellasleepin  sessions  \\\n",
              "creationdate                                                          \n",
              "2021-10-09   0 days 06:45:00 0 days 00:21:00       0 days         1   \n",
              "2021-10-10   0 days 05:01:00 0 days 01:03:00       0 days         1   \n",
              "2021-10-11   0 days 09:39:00 0 days 01:36:00       0 days         1   \n",
              "2021-10-12   0 days 07:21:00 0 days 00:00:00       0 days         1   \n",
              "2021-10-13   0 days 05:56:00 0 days 00:00:00       0 days         1   \n",
              "...                      ...             ...          ...       ...   \n",
              "2022-09-06   0 days 06:57:00 0 days 00:00:00       0 days         1   \n",
              "2022-09-07   0 days 09:38:00 0 days 00:33:00       0 days         1   \n",
              "2022-09-08   0 days 10:42:00 0 days 01:31:00       0 days         2   \n",
              "2022-09-09   0 days 07:10:00 0 days 00:54:00       0 days         1   \n",
              "2022-09-10   0 days 04:43:00 0 days 00:00:00       0 days         1   \n",
              "\n",
              "                      asleep  efficiency         quality            deep  \\\n",
              "creationdate                                                               \n",
              "2021-10-09   0 days 06:24:00        94.8 0 days 04:57:00             NaT   \n",
              "2021-10-10   0 days 03:58:00        79.1 0 days 02:52:28 0 days 00:14:00   \n",
              "2021-10-11   0 days 08:03:00        83.4 0 days 05:54:53 0 days 00:29:16   \n",
              "2021-10-12   0 days 07:21:00       100.0 0 days 05:17:57 0 days 01:16:02   \n",
              "2021-10-13   0 days 05:56:00       100.0 0 days 04:38:22 0 days 01:14:10   \n",
              "...                      ...         ...             ...             ...   \n",
              "2022-09-06   0 days 06:57:00       100.0 0 days 05:05:09 0 days 01:29:21   \n",
              "2022-09-07   0 days 09:05:00        94.3 0 days 06:36:44 0 days 01:02:17   \n",
              "2022-09-08   0 days 09:11:00        84.5 0 days 05:39:23             NaT   \n",
              "2022-09-09   0 days 06:16:00        87.4 0 days 05:10:59 0 days 02:05:20   \n",
              "2022-09-10   0 days 04:43:00       100.0 0 days 03:28:29             NaT   \n",
              "\n",
              "              sleepbpm  daybpm  wakingbpm  hrv  sleephrv  respavg  respmin  \\\n",
              "creationdate                                                                 \n",
              "2021-10-09        71.7    83.4       71.0   70      55.0     16.1     13.0   \n",
              "2021-10-10        74.1    79.9       76.0   49      43.0     16.6     14.5   \n",
              "2021-10-11        69.7    87.7       67.0   88      61.0     16.1     11.5   \n",
              "2021-10-12        69.5    83.1       61.0  104      64.0     16.3     13.0   \n",
              "2021-10-13        68.3    81.0       65.0   42      38.0     15.7     12.5   \n",
              "...                ...     ...        ...  ...       ...      ...      ...   \n",
              "2022-09-06        62.8    74.6       62.0   57      49.0     17.0     14.5   \n",
              "2022-09-07        63.6    76.2       63.0   58      53.0     16.6     13.5   \n",
              "2022-09-08        69.3    79.4       68.0   70      54.0     17.9     15.0   \n",
              "2022-09-09        63.5    74.5       60.0   64      53.0     15.9     12.5   \n",
              "2022-09-10        67.5     NaN       65.0   37       NaN     16.8     14.0   \n",
              "\n",
              "              respmax  \n",
              "creationdate           \n",
              "2021-10-09       20.5  \n",
              "2021-10-10       19.0  \n",
              "2021-10-11       18.5  \n",
              "2021-10-12       19.0  \n",
              "2021-10-13       20.0  \n",
              "...               ...  \n",
              "2022-09-06       22.5  \n",
              "2022-09-07       21.5  \n",
              "2022-09-08       22.0  \n",
              "2022-09-09       19.5  \n",
              "2022-09-10       23.0  \n",
              "\n",
              "[333 rows x 20 columns]"
            ],
            "text/html": [
              "\n",
              "  <div id=\"df-c0603264-6a60-42e0-affb-7362a186312d\">\n",
              "    <div class=\"colab-df-container\">\n",
              "      <div>\n",
              "<style scoped>\n",
              "    .dataframe tbody tr th:only-of-type {\n",
              "        vertical-align: middle;\n",
              "    }\n",
              "\n",
              "    .dataframe tbody tr th {\n",
              "        vertical-align: top;\n",
              "    }\n",
              "\n",
              "    .dataframe thead th {\n",
              "        text-align: right;\n",
              "    }\n",
              "</style>\n",
              "<table border=\"1\" class=\"dataframe\">\n",
              "  <thead>\n",
              "    <tr style=\"text-align: right;\">\n",
              "      <th></th>\n",
              "      <th>fromdate</th>\n",
              "      <th>todate</th>\n",
              "      <th>bedtime</th>\n",
              "      <th>waketime</th>\n",
              "      <th>inbed</th>\n",
              "      <th>awake</th>\n",
              "      <th>fellasleepin</th>\n",
              "      <th>sessions</th>\n",
              "      <th>asleep</th>\n",
              "      <th>efficiency</th>\n",
              "      <th>quality</th>\n",
              "      <th>deep</th>\n",
              "      <th>sleepbpm</th>\n",
              "      <th>daybpm</th>\n",
              "      <th>wakingbpm</th>\n",
              "      <th>hrv</th>\n",
              "      <th>sleephrv</th>\n",
              "      <th>respavg</th>\n",
              "      <th>respmin</th>\n",
              "      <th>respmax</th>\n",
              "    </tr>\n",
              "    <tr>\n",
              "      <th>creationdate</th>\n",
              "      <th></th>\n",
              "      <th></th>\n",
              "      <th></th>\n",
              "      <th></th>\n",
              "      <th></th>\n",
              "      <th></th>\n",
              "      <th></th>\n",
              "      <th></th>\n",
              "      <th></th>\n",
              "      <th></th>\n",
              "      <th></th>\n",
              "      <th></th>\n",
              "      <th></th>\n",
              "      <th></th>\n",
              "      <th></th>\n",
              "      <th></th>\n",
              "      <th></th>\n",
              "      <th></th>\n",
              "      <th></th>\n",
              "      <th></th>\n",
              "    </tr>\n",
              "  </thead>\n",
              "  <tbody>\n",
              "    <tr>\n",
              "      <th>2021-10-09</th>\n",
              "      <td>2021-10-08</td>\n",
              "      <td>2021-10-09</td>\n",
              "      <td>2021-10-08 22:51:00</td>\n",
              "      <td>2021-10-09 05:36:00</td>\n",
              "      <td>0 days 06:45:00</td>\n",
              "      <td>0 days 00:21:00</td>\n",
              "      <td>0 days</td>\n",
              "      <td>1</td>\n",
              "      <td>0 days 06:24:00</td>\n",
              "      <td>94.8</td>\n",
              "      <td>0 days 04:57:00</td>\n",
              "      <td>NaT</td>\n",
              "      <td>71.7</td>\n",
              "      <td>83.4</td>\n",
              "      <td>71.0</td>\n",
              "      <td>70</td>\n",
              "      <td>55.0</td>\n",
              "      <td>16.1</td>\n",
              "      <td>13.0</td>\n",
              "      <td>20.5</td>\n",
              "    </tr>\n",
              "    <tr>\n",
              "      <th>2021-10-10</th>\n",
              "      <td>2021-10-09</td>\n",
              "      <td>2021-10-10</td>\n",
              "      <td>2021-10-09 22:45:00</td>\n",
              "      <td>2021-10-10 03:46:00</td>\n",
              "      <td>0 days 05:01:00</td>\n",
              "      <td>0 days 01:03:00</td>\n",
              "      <td>0 days</td>\n",
              "      <td>1</td>\n",
              "      <td>0 days 03:58:00</td>\n",
              "      <td>79.1</td>\n",
              "      <td>0 days 02:52:28</td>\n",
              "      <td>0 days 00:14:00</td>\n",
              "      <td>74.1</td>\n",
              "      <td>79.9</td>\n",
              "      <td>76.0</td>\n",
              "      <td>49</td>\n",
              "      <td>43.0</td>\n",
              "      <td>16.6</td>\n",
              "      <td>14.5</td>\n",
              "      <td>19.0</td>\n",
              "    </tr>\n",
              "    <tr>\n",
              "      <th>2021-10-11</th>\n",
              "      <td>2021-10-10</td>\n",
              "      <td>2021-10-11</td>\n",
              "      <td>2021-10-10 20:56:00</td>\n",
              "      <td>2021-10-11 06:35:00</td>\n",
              "      <td>0 days 09:39:00</td>\n",
              "      <td>0 days 01:36:00</td>\n",
              "      <td>0 days</td>\n",
              "      <td>1</td>\n",
              "      <td>0 days 08:03:00</td>\n",
              "      <td>83.4</td>\n",
              "      <td>0 days 05:54:53</td>\n",
              "      <td>0 days 00:29:16</td>\n",
              "      <td>69.7</td>\n",
              "      <td>87.7</td>\n",
              "      <td>67.0</td>\n",
              "      <td>88</td>\n",
              "      <td>61.0</td>\n",
              "      <td>16.1</td>\n",
              "      <td>11.5</td>\n",
              "      <td>18.5</td>\n",
              "    </tr>\n",
              "    <tr>\n",
              "      <th>2021-10-12</th>\n",
              "      <td>2021-10-11</td>\n",
              "      <td>2021-10-12</td>\n",
              "      <td>2021-10-11 22:00:00</td>\n",
              "      <td>2021-10-12 05:21:00</td>\n",
              "      <td>0 days 07:21:00</td>\n",
              "      <td>0 days 00:00:00</td>\n",
              "      <td>0 days</td>\n",
              "      <td>1</td>\n",
              "      <td>0 days 07:21:00</td>\n",
              "      <td>100.0</td>\n",
              "      <td>0 days 05:17:57</td>\n",
              "      <td>0 days 01:16:02</td>\n",
              "      <td>69.5</td>\n",
              "      <td>83.1</td>\n",
              "      <td>61.0</td>\n",
              "      <td>104</td>\n",
              "      <td>64.0</td>\n",
              "      <td>16.3</td>\n",
              "      <td>13.0</td>\n",
              "      <td>19.0</td>\n",
              "    </tr>\n",
              "    <tr>\n",
              "      <th>2021-10-13</th>\n",
              "      <td>2021-10-12</td>\n",
              "      <td>2021-10-13</td>\n",
              "      <td>2021-10-12 22:45:00</td>\n",
              "      <td>2021-10-13 04:41:00</td>\n",
              "      <td>0 days 05:56:00</td>\n",
              "      <td>0 days 00:00:00</td>\n",
              "      <td>0 days</td>\n",
              "      <td>1</td>\n",
              "      <td>0 days 05:56:00</td>\n",
              "      <td>100.0</td>\n",
              "      <td>0 days 04:38:22</td>\n",
              "      <td>0 days 01:14:10</td>\n",
              "      <td>68.3</td>\n",
              "      <td>81.0</td>\n",
              "      <td>65.0</td>\n",
              "      <td>42</td>\n",
              "      <td>38.0</td>\n",
              "      <td>15.7</td>\n",
              "      <td>12.5</td>\n",
              "      <td>20.0</td>\n",
              "    </tr>\n",
              "    <tr>\n",
              "      <th>...</th>\n",
              "      <td>...</td>\n",
              "      <td>...</td>\n",
              "      <td>...</td>\n",
              "      <td>...</td>\n",
              "      <td>...</td>\n",
              "      <td>...</td>\n",
              "      <td>...</td>\n",
              "      <td>...</td>\n",
              "      <td>...</td>\n",
              "      <td>...</td>\n",
              "      <td>...</td>\n",
              "      <td>...</td>\n",
              "      <td>...</td>\n",
              "      <td>...</td>\n",
              "      <td>...</td>\n",
              "      <td>...</td>\n",
              "      <td>...</td>\n",
              "      <td>...</td>\n",
              "      <td>...</td>\n",
              "      <td>...</td>\n",
              "    </tr>\n",
              "    <tr>\n",
              "      <th>2022-09-06</th>\n",
              "      <td>2022-09-05</td>\n",
              "      <td>2022-09-06</td>\n",
              "      <td>2022-09-05 21:47:00</td>\n",
              "      <td>2022-09-06 04:44:00</td>\n",
              "      <td>0 days 06:57:00</td>\n",
              "      <td>0 days 00:00:00</td>\n",
              "      <td>0 days</td>\n",
              "      <td>1</td>\n",
              "      <td>0 days 06:57:00</td>\n",
              "      <td>100.0</td>\n",
              "      <td>0 days 05:05:09</td>\n",
              "      <td>0 days 01:29:21</td>\n",
              "      <td>62.8</td>\n",
              "      <td>74.6</td>\n",
              "      <td>62.0</td>\n",
              "      <td>57</td>\n",
              "      <td>49.0</td>\n",
              "      <td>17.0</td>\n",
              "      <td>14.5</td>\n",
              "      <td>22.5</td>\n",
              "    </tr>\n",
              "    <tr>\n",
              "      <th>2022-09-07</th>\n",
              "      <td>2022-09-06</td>\n",
              "      <td>2022-09-07</td>\n",
              "      <td>2022-09-06 20:45:00</td>\n",
              "      <td>2022-09-07 06:23:00</td>\n",
              "      <td>0 days 09:38:00</td>\n",
              "      <td>0 days 00:33:00</td>\n",
              "      <td>0 days</td>\n",
              "      <td>1</td>\n",
              "      <td>0 days 09:05:00</td>\n",
              "      <td>94.3</td>\n",
              "      <td>0 days 06:36:44</td>\n",
              "      <td>0 days 01:02:17</td>\n",
              "      <td>63.6</td>\n",
              "      <td>76.2</td>\n",
              "      <td>63.0</td>\n",
              "      <td>58</td>\n",
              "      <td>53.0</td>\n",
              "      <td>16.6</td>\n",
              "      <td>13.5</td>\n",
              "      <td>21.5</td>\n",
              "    </tr>\n",
              "    <tr>\n",
              "      <th>2022-09-08</th>\n",
              "      <td>2022-09-07</td>\n",
              "      <td>2022-09-08</td>\n",
              "      <td>2022-09-07 20:30:00</td>\n",
              "      <td>2022-09-08 06:16:00</td>\n",
              "      <td>0 days 10:42:00</td>\n",
              "      <td>0 days 01:31:00</td>\n",
              "      <td>0 days</td>\n",
              "      <td>2</td>\n",
              "      <td>0 days 09:11:00</td>\n",
              "      <td>84.5</td>\n",
              "      <td>0 days 05:39:23</td>\n",
              "      <td>NaT</td>\n",
              "      <td>69.3</td>\n",
              "      <td>79.4</td>\n",
              "      <td>68.0</td>\n",
              "      <td>70</td>\n",
              "      <td>54.0</td>\n",
              "      <td>17.9</td>\n",
              "      <td>15.0</td>\n",
              "      <td>22.0</td>\n",
              "    </tr>\n",
              "    <tr>\n",
              "      <th>2022-09-09</th>\n",
              "      <td>2022-09-08</td>\n",
              "      <td>2022-09-09</td>\n",
              "      <td>2022-09-08 23:00:00</td>\n",
              "      <td>2022-09-09 06:10:00</td>\n",
              "      <td>0 days 07:10:00</td>\n",
              "      <td>0 days 00:54:00</td>\n",
              "      <td>0 days</td>\n",
              "      <td>1</td>\n",
              "      <td>0 days 06:16:00</td>\n",
              "      <td>87.4</td>\n",
              "      <td>0 days 05:10:59</td>\n",
              "      <td>0 days 02:05:20</td>\n",
              "      <td>63.5</td>\n",
              "      <td>74.5</td>\n",
              "      <td>60.0</td>\n",
              "      <td>64</td>\n",
              "      <td>53.0</td>\n",
              "      <td>15.9</td>\n",
              "      <td>12.5</td>\n",
              "      <td>19.5</td>\n",
              "    </tr>\n",
              "    <tr>\n",
              "      <th>2022-09-10</th>\n",
              "      <td>2022-09-09</td>\n",
              "      <td>2022-09-10</td>\n",
              "      <td>2022-09-09 20:30:00</td>\n",
              "      <td>2022-09-10 01:13:00</td>\n",
              "      <td>0 days 04:43:00</td>\n",
              "      <td>0 days 00:00:00</td>\n",
              "      <td>0 days</td>\n",
              "      <td>1</td>\n",
              "      <td>0 days 04:43:00</td>\n",
              "      <td>100.0</td>\n",
              "      <td>0 days 03:28:29</td>\n",
              "      <td>NaT</td>\n",
              "      <td>67.5</td>\n",
              "      <td>NaN</td>\n",
              "      <td>65.0</td>\n",
              "      <td>37</td>\n",
              "      <td>NaN</td>\n",
              "      <td>16.8</td>\n",
              "      <td>14.0</td>\n",
              "      <td>23.0</td>\n",
              "    </tr>\n",
              "  </tbody>\n",
              "</table>\n",
              "<p>333 rows × 20 columns</p>\n",
              "</div>\n",
              "      <button class=\"colab-df-convert\" onclick=\"convertToInteractive('df-c0603264-6a60-42e0-affb-7362a186312d')\"\n",
              "              title=\"Convert this dataframe to an interactive table.\"\n",
              "              style=\"display:none;\">\n",
              "        \n",
              "  <svg xmlns=\"http://www.w3.org/2000/svg\" height=\"24px\"viewBox=\"0 0 24 24\"\n",
              "       width=\"24px\">\n",
              "    <path d=\"M0 0h24v24H0V0z\" fill=\"none\"/>\n",
              "    <path d=\"M18.56 5.44l.94 2.06.94-2.06 2.06-.94-2.06-.94-.94-2.06-.94 2.06-2.06.94zm-11 1L8.5 8.5l.94-2.06 2.06-.94-2.06-.94L8.5 2.5l-.94 2.06-2.06.94zm10 10l.94 2.06.94-2.06 2.06-.94-2.06-.94-.94-2.06-.94 2.06-2.06.94z\"/><path d=\"M17.41 7.96l-1.37-1.37c-.4-.4-.92-.59-1.43-.59-.52 0-1.04.2-1.43.59L10.3 9.45l-7.72 7.72c-.78.78-.78 2.05 0 2.83L4 21.41c.39.39.9.59 1.41.59.51 0 1.02-.2 1.41-.59l7.78-7.78 2.81-2.81c.8-.78.8-2.07 0-2.86zM5.41 20L4 18.59l7.72-7.72 1.47 1.35L5.41 20z\"/>\n",
              "  </svg>\n",
              "      </button>\n",
              "      \n",
              "  <style>\n",
              "    .colab-df-container {\n",
              "      display:flex;\n",
              "      flex-wrap:wrap;\n",
              "      gap: 12px;\n",
              "    }\n",
              "\n",
              "    .colab-df-convert {\n",
              "      background-color: #E8F0FE;\n",
              "      border: none;\n",
              "      border-radius: 50%;\n",
              "      cursor: pointer;\n",
              "      display: none;\n",
              "      fill: #1967D2;\n",
              "      height: 32px;\n",
              "      padding: 0 0 0 0;\n",
              "      width: 32px;\n",
              "    }\n",
              "\n",
              "    .colab-df-convert:hover {\n",
              "      background-color: #E2EBFA;\n",
              "      box-shadow: 0px 1px 2px rgba(60, 64, 67, 0.3), 0px 1px 3px 1px rgba(60, 64, 67, 0.15);\n",
              "      fill: #174EA6;\n",
              "    }\n",
              "\n",
              "    [theme=dark] .colab-df-convert {\n",
              "      background-color: #3B4455;\n",
              "      fill: #D2E3FC;\n",
              "    }\n",
              "\n",
              "    [theme=dark] .colab-df-convert:hover {\n",
              "      background-color: #434B5C;\n",
              "      box-shadow: 0px 1px 3px 1px rgba(0, 0, 0, 0.15);\n",
              "      filter: drop-shadow(0px 1px 2px rgba(0, 0, 0, 0.3));\n",
              "      fill: #FFFFFF;\n",
              "    }\n",
              "  </style>\n",
              "\n",
              "      <script>\n",
              "        const buttonEl =\n",
              "          document.querySelector('#df-c0603264-6a60-42e0-affb-7362a186312d button.colab-df-convert');\n",
              "        buttonEl.style.display =\n",
              "          google.colab.kernel.accessAllowed ? 'block' : 'none';\n",
              "\n",
              "        async function convertToInteractive(key) {\n",
              "          const element = document.querySelector('#df-c0603264-6a60-42e0-affb-7362a186312d');\n",
              "          const dataTable =\n",
              "            await google.colab.kernel.invokeFunction('convertToInteractive',\n",
              "                                                     [key], {});\n",
              "          if (!dataTable) return;\n",
              "\n",
              "          const docLinkHtml = 'Like what you see? Visit the ' +\n",
              "            '<a target=\"_blank\" href=https://colab.research.google.com/notebooks/data_table.ipynb>data table notebook</a>'\n",
              "            + ' to learn more about interactive tables.';\n",
              "          element.innerHTML = '';\n",
              "          dataTable['output_type'] = 'display_data';\n",
              "          await google.colab.output.renderOutput(dataTable, element);\n",
              "          const docLink = document.createElement('div');\n",
              "          docLink.innerHTML = docLinkHtml;\n",
              "          element.appendChild(docLink);\n",
              "        }\n",
              "      </script>\n",
              "    </div>\n",
              "  </div>\n",
              "  "
            ]
          },
          "metadata": {},
          "execution_count": 92
        }
      ]
    },
    {
      "cell_type": "code",
      "source": [
        "healthdata.datatype.nunique()"
      ],
      "metadata": {
        "colab": {
          "base_uri": "https://localhost:8080/"
        },
        "id": "WfeIXmFnA7Ec",
        "outputId": "38bc6b82-0a92-437b-977d-89cda2e9bad7"
      },
      "execution_count": 93,
      "outputs": [
        {
          "output_type": "execute_result",
          "data": {
            "text/plain": [
              "27"
            ]
          },
          "metadata": {},
          "execution_count": 93
        }
      ]
    },
    {
      "cell_type": "code",
      "source": [
        "# .query(\"datatype in ['BodyMassIndex', 'Height', 'BodyMass', 'HeartRate', \\\n",
        "#                         'RespiratoryRate', 'BodyFatPercentage', 'LeanBodyMass',\\\n",
        "#                         'StepCount', 'DistanceWalkingRunning', 'BasalEnergyBurned',\\\n",
        "#                         'ActiveEnergyBurned', 'FlightsClimbed',\\\n",
        "#                         'AppleExerciseTime', 'RestingHeartRate', 'VO2Max',\\\n",
        "#                         'WalkingHeartRateAverage', 'EnvironmentalAudioExposure',\\\n",
        "#                         'HeadphoneAudioExposure', 'WalkingDoubleSupportPercentage',\\\n",
        "#                         'SixMinuteWalkTestDistance', 'AppleStandTime', 'WalkingSpeed',\\\n",
        "#                         'WalkingStepLength', 'WalkingAsymmetryPercentage',\\\n",
        "#                         'HKDataTypeSleepDurationGoal', 'AppleWalkingSteadiness',\\\n",
        "#                         'HeartRateVariabilitySDNN'] \")"
      ],
      "metadata": {
        "id": "7Mq_k9Ji-bLa"
      },
      "execution_count": 94,
      "outputs": []
    },
    {
      "cell_type": "code",
      "source": [
        "(healthdata\n",
        " .assign(creationdate = lambda x: x.creationdate.dt.normalize())\n",
        " .query(\"datatype in ['BodyMassIndex'] \")\n",
        " .groupby(['creationdate', 'datatype'])['value'].mean().dropna()\n",
        "\n",
        " )"
      ],
      "metadata": {
        "colab": {
          "base_uri": "https://localhost:8080/"
        },
        "id": "o3zho4SUGTWp",
        "outputId": "31300cea-ab45-4dd1-f85e-f07985b87aee"
      },
      "execution_count": 95,
      "outputs": [
        {
          "output_type": "execute_result",
          "data": {
            "text/plain": [
              "creationdate  datatype     \n",
              "2021-08-08    BodyMassIndex    27.0\n",
              "2021-08-11    BodyMassIndex    26.7\n",
              "2021-08-13    BodyMassIndex    26.6\n",
              "2021-08-15    BodyMassIndex    26.5\n",
              "2021-08-16    BodyMassIndex    26.4\n",
              "                               ... \n",
              "2022-07-27    BodyMassIndex    24.5\n",
              "2022-07-28    BodyMassIndex    24.4\n",
              "2022-08-09    BodyMassIndex    24.4\n",
              "2022-09-01    BodyMassIndex    24.3\n",
              "2022-09-04    BodyMassIndex    24.2\n",
              "Name: value, Length: 74, dtype: float64"
            ]
          },
          "metadata": {},
          "execution_count": 95
        }
      ]
    },
    {
      "cell_type": "code",
      "source": [
        "(healthdata\n",
        "        .assign(creationdate = lambda x: x.creationdate.dt.normalize())\n",
        "        .query(\"datatype in ['HeartRate','HeartRateVariabilitySDNN'] \")\n",
        "        .groupby(['creationdate', 'datatype'],observed =True)['value'].agg(['min', 'max']).unstack()\n",
        "        .pipe(utilities.flatten_cols)\n",
        "    )"
      ],
      "metadata": {
        "colab": {
          "base_uri": "https://localhost:8080/",
          "height": 450
        },
        "id": "sYpjSTExvokm",
        "outputId": "dd287be1-98ae-4061-dc24-e591c2ae80c5"
      },
      "execution_count": 96,
      "outputs": [
        {
          "output_type": "execute_result",
          "data": {
            "text/plain": [
              "              min_HeartRate  min_HeartRateVariabilitySDNN  max_HeartRate  \\\n",
              "creationdate                                                               \n",
              "2021-10-08             63.0                       34.3289           84.0   \n",
              "2021-10-09             52.0                       25.0087          170.0   \n",
              "2021-10-10             59.0                       25.5820          105.0   \n",
              "2021-10-11             49.0                       23.2218          166.0   \n",
              "2021-10-12             57.0                       24.6120          172.0   \n",
              "...                     ...                           ...            ...   \n",
              "2022-09-05             56.0                       20.6158          121.0   \n",
              "2022-09-06             46.0                       19.3722          163.0   \n",
              "2022-09-07             46.0                       22.5268          175.0   \n",
              "2022-09-08             55.0                       18.3752          177.0   \n",
              "2022-09-09             54.0                       25.0527          157.0   \n",
              "\n",
              "              max_HeartRateVariabilitySDNN  \n",
              "creationdate                                \n",
              "2021-10-08                         70.3527  \n",
              "2021-10-09                         58.5288  \n",
              "2021-10-10                         70.7496  \n",
              "2021-10-11                        103.8290  \n",
              "2021-10-12                         83.6158  \n",
              "...                                    ...  \n",
              "2022-09-05                         74.0787  \n",
              "2022-09-06                         89.1370  \n",
              "2022-09-07                         74.8563  \n",
              "2022-09-08                         65.3777  \n",
              "2022-09-09                         95.2263  \n",
              "\n",
              "[335 rows x 4 columns]"
            ],
            "text/html": [
              "\n",
              "  <div id=\"df-fe96c341-13cd-4ccb-a3ef-374ca073dba7\">\n",
              "    <div class=\"colab-df-container\">\n",
              "      <div>\n",
              "<style scoped>\n",
              "    .dataframe tbody tr th:only-of-type {\n",
              "        vertical-align: middle;\n",
              "    }\n",
              "\n",
              "    .dataframe tbody tr th {\n",
              "        vertical-align: top;\n",
              "    }\n",
              "\n",
              "    .dataframe thead th {\n",
              "        text-align: right;\n",
              "    }\n",
              "</style>\n",
              "<table border=\"1\" class=\"dataframe\">\n",
              "  <thead>\n",
              "    <tr style=\"text-align: right;\">\n",
              "      <th></th>\n",
              "      <th>min_HeartRate</th>\n",
              "      <th>min_HeartRateVariabilitySDNN</th>\n",
              "      <th>max_HeartRate</th>\n",
              "      <th>max_HeartRateVariabilitySDNN</th>\n",
              "    </tr>\n",
              "    <tr>\n",
              "      <th>creationdate</th>\n",
              "      <th></th>\n",
              "      <th></th>\n",
              "      <th></th>\n",
              "      <th></th>\n",
              "    </tr>\n",
              "  </thead>\n",
              "  <tbody>\n",
              "    <tr>\n",
              "      <th>2021-10-08</th>\n",
              "      <td>63.0</td>\n",
              "      <td>34.3289</td>\n",
              "      <td>84.0</td>\n",
              "      <td>70.3527</td>\n",
              "    </tr>\n",
              "    <tr>\n",
              "      <th>2021-10-09</th>\n",
              "      <td>52.0</td>\n",
              "      <td>25.0087</td>\n",
              "      <td>170.0</td>\n",
              "      <td>58.5288</td>\n",
              "    </tr>\n",
              "    <tr>\n",
              "      <th>2021-10-10</th>\n",
              "      <td>59.0</td>\n",
              "      <td>25.5820</td>\n",
              "      <td>105.0</td>\n",
              "      <td>70.7496</td>\n",
              "    </tr>\n",
              "    <tr>\n",
              "      <th>2021-10-11</th>\n",
              "      <td>49.0</td>\n",
              "      <td>23.2218</td>\n",
              "      <td>166.0</td>\n",
              "      <td>103.8290</td>\n",
              "    </tr>\n",
              "    <tr>\n",
              "      <th>2021-10-12</th>\n",
              "      <td>57.0</td>\n",
              "      <td>24.6120</td>\n",
              "      <td>172.0</td>\n",
              "      <td>83.6158</td>\n",
              "    </tr>\n",
              "    <tr>\n",
              "      <th>...</th>\n",
              "      <td>...</td>\n",
              "      <td>...</td>\n",
              "      <td>...</td>\n",
              "      <td>...</td>\n",
              "    </tr>\n",
              "    <tr>\n",
              "      <th>2022-09-05</th>\n",
              "      <td>56.0</td>\n",
              "      <td>20.6158</td>\n",
              "      <td>121.0</td>\n",
              "      <td>74.0787</td>\n",
              "    </tr>\n",
              "    <tr>\n",
              "      <th>2022-09-06</th>\n",
              "      <td>46.0</td>\n",
              "      <td>19.3722</td>\n",
              "      <td>163.0</td>\n",
              "      <td>89.1370</td>\n",
              "    </tr>\n",
              "    <tr>\n",
              "      <th>2022-09-07</th>\n",
              "      <td>46.0</td>\n",
              "      <td>22.5268</td>\n",
              "      <td>175.0</td>\n",
              "      <td>74.8563</td>\n",
              "    </tr>\n",
              "    <tr>\n",
              "      <th>2022-09-08</th>\n",
              "      <td>55.0</td>\n",
              "      <td>18.3752</td>\n",
              "      <td>177.0</td>\n",
              "      <td>65.3777</td>\n",
              "    </tr>\n",
              "    <tr>\n",
              "      <th>2022-09-09</th>\n",
              "      <td>54.0</td>\n",
              "      <td>25.0527</td>\n",
              "      <td>157.0</td>\n",
              "      <td>95.2263</td>\n",
              "    </tr>\n",
              "  </tbody>\n",
              "</table>\n",
              "<p>335 rows × 4 columns</p>\n",
              "</div>\n",
              "      <button class=\"colab-df-convert\" onclick=\"convertToInteractive('df-fe96c341-13cd-4ccb-a3ef-374ca073dba7')\"\n",
              "              title=\"Convert this dataframe to an interactive table.\"\n",
              "              style=\"display:none;\">\n",
              "        \n",
              "  <svg xmlns=\"http://www.w3.org/2000/svg\" height=\"24px\"viewBox=\"0 0 24 24\"\n",
              "       width=\"24px\">\n",
              "    <path d=\"M0 0h24v24H0V0z\" fill=\"none\"/>\n",
              "    <path d=\"M18.56 5.44l.94 2.06.94-2.06 2.06-.94-2.06-.94-.94-2.06-.94 2.06-2.06.94zm-11 1L8.5 8.5l.94-2.06 2.06-.94-2.06-.94L8.5 2.5l-.94 2.06-2.06.94zm10 10l.94 2.06.94-2.06 2.06-.94-2.06-.94-.94-2.06-.94 2.06-2.06.94z\"/><path d=\"M17.41 7.96l-1.37-1.37c-.4-.4-.92-.59-1.43-.59-.52 0-1.04.2-1.43.59L10.3 9.45l-7.72 7.72c-.78.78-.78 2.05 0 2.83L4 21.41c.39.39.9.59 1.41.59.51 0 1.02-.2 1.41-.59l7.78-7.78 2.81-2.81c.8-.78.8-2.07 0-2.86zM5.41 20L4 18.59l7.72-7.72 1.47 1.35L5.41 20z\"/>\n",
              "  </svg>\n",
              "      </button>\n",
              "      \n",
              "  <style>\n",
              "    .colab-df-container {\n",
              "      display:flex;\n",
              "      flex-wrap:wrap;\n",
              "      gap: 12px;\n",
              "    }\n",
              "\n",
              "    .colab-df-convert {\n",
              "      background-color: #E8F0FE;\n",
              "      border: none;\n",
              "      border-radius: 50%;\n",
              "      cursor: pointer;\n",
              "      display: none;\n",
              "      fill: #1967D2;\n",
              "      height: 32px;\n",
              "      padding: 0 0 0 0;\n",
              "      width: 32px;\n",
              "    }\n",
              "\n",
              "    .colab-df-convert:hover {\n",
              "      background-color: #E2EBFA;\n",
              "      box-shadow: 0px 1px 2px rgba(60, 64, 67, 0.3), 0px 1px 3px 1px rgba(60, 64, 67, 0.15);\n",
              "      fill: #174EA6;\n",
              "    }\n",
              "\n",
              "    [theme=dark] .colab-df-convert {\n",
              "      background-color: #3B4455;\n",
              "      fill: #D2E3FC;\n",
              "    }\n",
              "\n",
              "    [theme=dark] .colab-df-convert:hover {\n",
              "      background-color: #434B5C;\n",
              "      box-shadow: 0px 1px 3px 1px rgba(0, 0, 0, 0.15);\n",
              "      filter: drop-shadow(0px 1px 2px rgba(0, 0, 0, 0.3));\n",
              "      fill: #FFFFFF;\n",
              "    }\n",
              "  </style>\n",
              "\n",
              "      <script>\n",
              "        const buttonEl =\n",
              "          document.querySelector('#df-fe96c341-13cd-4ccb-a3ef-374ca073dba7 button.colab-df-convert');\n",
              "        buttonEl.style.display =\n",
              "          google.colab.kernel.accessAllowed ? 'block' : 'none';\n",
              "\n",
              "        async function convertToInteractive(key) {\n",
              "          const element = document.querySelector('#df-fe96c341-13cd-4ccb-a3ef-374ca073dba7');\n",
              "          const dataTable =\n",
              "            await google.colab.kernel.invokeFunction('convertToInteractive',\n",
              "                                                     [key], {});\n",
              "          if (!dataTable) return;\n",
              "\n",
              "          const docLinkHtml = 'Like what you see? Visit the ' +\n",
              "            '<a target=\"_blank\" href=https://colab.research.google.com/notebooks/data_table.ipynb>data table notebook</a>'\n",
              "            + ' to learn more about interactive tables.';\n",
              "          element.innerHTML = '';\n",
              "          dataTable['output_type'] = 'display_data';\n",
              "          await google.colab.output.renderOutput(dataTable, element);\n",
              "          const docLink = document.createElement('div');\n",
              "          docLink.innerHTML = docLinkHtml;\n",
              "          element.appendChild(docLink);\n",
              "        }\n",
              "      </script>\n",
              "    </div>\n",
              "  </div>\n",
              "  "
            ]
          },
          "metadata": {},
          "execution_count": 96
        }
      ]
    },
    {
      "cell_type": "code",
      "source": [
        "mergeddata = (\n",
        "    (healthdata\n",
        "        .assign(creationdate = lambda x: x.creationdate.dt.normalize())\n",
        "        .query(\"datatype in ['BodyMassIndex', 'Height', 'BodyMass', 'HeartRate', \\\n",
        "                                'RespiratoryRate', 'BodyFatPercentage', 'LeanBodyMass',\\\n",
        "                                'RestingHeartRate', 'VO2Max',\\\n",
        "                                'WalkingHeartRateAverage', 'EnvironmentalAudioExposure',\\\n",
        "                                'HeadphoneAudioExposure', 'WalkingDoubleSupportPercentage',\\\n",
        "                                'SixMinuteWalkTestDistance','WalkingSpeed',\\\n",
        "                                'WalkingStepLength', 'WalkingAsymmetryPercentage',\\\n",
        "                                'HKDataTypeSleepDurationGoal', 'AppleWalkingSteadiness',\\\n",
        "                                'HeartRateVariabilitySDNN'] \")\n",
        "        .groupby(['creationdate', 'datatype'],observed =True)['value'].mean().unstack()\n",
        "    )\n",
        "    ## merging the two DFs side by side\n",
        "    .merge(\n",
        "            (healthdata\n",
        "                .assign(creationdate = lambda x: x.creationdate.dt.normalize())\n",
        "                .query(\"datatype in ['StepCount', 'DistanceWalkingRunning', 'BasalEnergyBurned',\\\n",
        "                                        'ActiveEnergyBurned', 'FlightsClimbed',\\\n",
        "                                        'AppleExerciseTime',\\\n",
        "                                        'AppleStandTime']\")\n",
        "                .groupby(['creationdate', 'datatype'], observed =True)['value'].sum().unstack()\n",
        "            ),\n",
        "           how='outer', left_index=True, right_index=True\n",
        "    )\n",
        "    .merge(\n",
        "        (sleepdata\n",
        "            .rename(columns={'maindate':'creationdate'})\n",
        "            .set_index('creationdate')\n",
        "        ),\n",
        "        how='left', left_index=True, right_index=True\n",
        "    )\n",
        "    .merge(\n",
        "        (workoutdata.set_index('creationdate')\n",
        "            .groupby(pd.Grouper(freq='1D'))[['duration', 'totaldistance','totalenergyburned']]\n",
        "            .sum()\n",
        "        ),how='left', left_index=True, right_index=True\n",
        "    )\n",
        "    .merge(\n",
        "        (healthdata\n",
        "        .assign(creationdate = lambda x: x.creationdate.dt.normalize())\n",
        "        .query(\"datatype in ['HeartRate','HeartRateVariabilitySDNN'] \")\n",
        "        .groupby(['creationdate', 'datatype'],observed =True)['value'].agg(['min', 'max']).unstack()\n",
        "        .pipe(utilities.flatten_cols)\n",
        "        ),how='left', left_index=True, right_index=True\n",
        "    )\n",
        ")\n",
        "\n",
        "\n",
        "\n",
        "\n",
        "\n",
        "\n"
      ],
      "metadata": {
        "id": "CzkjgZdt9ZVF"
      },
      "execution_count": 97,
      "outputs": []
    },
    {
      "cell_type": "code",
      "source": [
        "healthdata.query(\"datatype == 'BasalEnergyBurned'\")['value'].sum()"
      ],
      "metadata": {
        "colab": {
          "base_uri": "https://localhost:8080/"
        },
        "id": "j25IK5CJ8qPz",
        "outputId": "4055dbfb-06df-4681-9bc1-ffef8f6a2df0"
      },
      "execution_count": 98,
      "outputs": [
        {
          "output_type": "execute_result",
          "data": {
            "text/plain": [
              "654467.8570000002"
            ]
          },
          "metadata": {},
          "execution_count": 98
        }
      ]
    },
    {
      "cell_type": "code",
      "source": [
        "sleepdata['asleep'].sum()"
      ],
      "metadata": {
        "colab": {
          "base_uri": "https://localhost:8080/"
        },
        "id": "u9FOqGEN85vt",
        "outputId": "4a0f8e3c-801f-4b5a-9e43-e2144fd272b4"
      },
      "execution_count": 99,
      "outputs": [
        {
          "output_type": "execute_result",
          "data": {
            "text/plain": [
              "Timedelta('94 days 18:51:00')"
            ]
          },
          "metadata": {},
          "execution_count": 99
        }
      ]
    },
    {
      "cell_type": "code",
      "source": [
        "workoutdata['totalenergyburned'].sum()"
      ],
      "metadata": {
        "colab": {
          "base_uri": "https://localhost:8080/"
        },
        "id": "5odaveYFPcVc",
        "outputId": "fb677da4-d9d3-4e45-c247-9c7a0379ce0e"
      },
      "execution_count": 100,
      "outputs": [
        {
          "output_type": "execute_result",
          "data": {
            "text/plain": [
              "78849.29036980342"
            ]
          },
          "metadata": {},
          "execution_count": 100
        }
      ]
    },
    {
      "cell_type": "code",
      "source": [
        "workoutdata.columns"
      ],
      "metadata": {
        "colab": {
          "base_uri": "https://localhost:8080/"
        },
        "id": "5K3BxOi_OWJl",
        "outputId": "eb816089-1497-44b2-da6a-d666d2767c54"
      },
      "execution_count": 101,
      "outputs": [
        {
          "output_type": "execute_result",
          "data": {
            "text/plain": [
              "Index(['workouttype', 'duration', 'durationunit', 'totaldistance',\n",
              "       'totaldistanceunit', 'totalenergyburned', 'totalenergyburnedunit',\n",
              "       'sourcename', 'device', 'creationdate', 'startdate', 'enddate',\n",
              "       'workoutname'],\n",
              "      dtype='object')"
            ]
          },
          "metadata": {},
          "execution_count": 101
        }
      ]
    },
    {
      "cell_type": "code",
      "source": [
        "mergeddata.info()"
      ],
      "metadata": {
        "colab": {
          "base_uri": "https://localhost:8080/"
        },
        "id": "CiNUCOy-OisB",
        "outputId": "296f00a8-5739-4fb1-8643-7d266a876e76"
      },
      "execution_count": 102,
      "outputs": [
        {
          "output_type": "stream",
          "name": "stdout",
          "text": [
            "<class 'pandas.core.frame.DataFrame'>\n",
            "DatetimeIndex: 371 entries, 2020-01-03 to 2022-09-09\n",
            "Data columns (total 54 columns):\n",
            " #   Column                          Non-Null Count  Dtype          \n",
            "---  ------                          --------------  -----          \n",
            " 0   BodyMassIndex                   74 non-null     float64        \n",
            " 1   Height                          1 non-null      float64        \n",
            " 2   BodyMass                        82 non-null     float64        \n",
            " 3   HeartRate                       335 non-null    float64        \n",
            " 4   RespiratoryRate                 334 non-null    float64        \n",
            " 5   BodyFatPercentage               74 non-null     float64        \n",
            " 6   LeanBodyMass                    74 non-null     float64        \n",
            " 7   RestingHeartRate                323 non-null    float64        \n",
            " 8   VO2Max                          36 non-null     float64        \n",
            " 9   WalkingHeartRateAverage         318 non-null    float64        \n",
            " 10  EnvironmentalAudioExposure      334 non-null    float64        \n",
            " 11  HeadphoneAudioExposure          333 non-null    float64        \n",
            " 12  WalkingDoubleSupportPercentage  292 non-null    float64        \n",
            " 13  SixMinuteWalkTestDistance       32 non-null     float64        \n",
            " 14  WalkingSpeed                    307 non-null    float64        \n",
            " 15  WalkingStepLength               307 non-null    float64        \n",
            " 16  WalkingAsymmetryPercentage      94 non-null     float64        \n",
            " 17  HKDataTypeSleepDurationGoal     3 non-null      float64        \n",
            " 18  AppleWalkingSteadiness          46 non-null     float64        \n",
            " 19  HeartRateVariabilitySDNN        334 non-null    float64        \n",
            " 20  StepCount                       337 non-null    float64        \n",
            " 21  DistanceWalkingRunning          346 non-null    float64        \n",
            " 22  BasalEnergyBurned               337 non-null    float64        \n",
            " 23  ActiveEnergyBurned              335 non-null    float64        \n",
            " 24  FlightsClimbed                  105 non-null    float64        \n",
            " 25  AppleExerciseTime               279 non-null    float64        \n",
            " 26  AppleStandTime                  334 non-null    float64        \n",
            " 27  fromdate                        332 non-null    datetime64[ns] \n",
            " 28  todate                          332 non-null    datetime64[ns] \n",
            " 29  bedtime                         332 non-null    datetime64[ns] \n",
            " 30  waketime                        332 non-null    datetime64[ns] \n",
            " 31  inbed                           332 non-null    timedelta64[ns]\n",
            " 32  awake                           332 non-null    timedelta64[ns]\n",
            " 33  fellasleepin                    330 non-null    timedelta64[ns]\n",
            " 34  sessions                        332 non-null    float64        \n",
            " 35  asleep                          332 non-null    timedelta64[ns]\n",
            " 36  efficiency                      332 non-null    float64        \n",
            " 37  quality                         330 non-null    timedelta64[ns]\n",
            " 38  deep                            282 non-null    timedelta64[ns]\n",
            " 39  sleepbpm                        330 non-null    float64        \n",
            " 40  daybpm                          329 non-null    float64        \n",
            " 41  wakingbpm                       332 non-null    float64        \n",
            " 42  hrv                             332 non-null    float64        \n",
            " 43  sleephrv                        330 non-null    float64        \n",
            " 44  respavg                         330 non-null    float64        \n",
            " 45  respmin                         330 non-null    float64        \n",
            " 46  respmax                         330 non-null    float64        \n",
            " 47  duration                        336 non-null    float64        \n",
            " 48  totaldistance                   336 non-null    float64        \n",
            " 49  totalenergyburned               336 non-null    float64        \n",
            " 50  min_HeartRate                   335 non-null    float64        \n",
            " 51  min_HeartRateVariabilitySDNN    334 non-null    float64        \n",
            " 52  max_HeartRate                   335 non-null    float64        \n",
            " 53  max_HeartRateVariabilitySDNN    334 non-null    float64        \n",
            "dtypes: datetime64[ns](4), float64(44), timedelta64[ns](6)\n",
            "memory usage: 167.5 KB\n"
          ]
        }
      ]
    },
    {
      "cell_type": "code",
      "source": [
        "import plotly.express as px"
      ],
      "metadata": {
        "id": "oJVdCaLfHY2K"
      },
      "execution_count": 103,
      "outputs": []
    },
    {
      "cell_type": "code",
      "source": [
        "fig = px.scatter(mergeddata['2022'], x=mergeddata['2022'].index, y='asleep')\n",
        "fig.show()"
      ],
      "metadata": {
        "colab": {
          "base_uri": "https://localhost:8080/",
          "height": 630
        },
        "id": "Zl9-Ee-q7eXQ",
        "outputId": "5d9e4f53-cc7c-4883-bceb-e9a774b7eafe"
      },
      "execution_count": 104,
      "outputs": [
        {
          "output_type": "stream",
          "name": "stderr",
          "text": [
            "/usr/local/lib/python3.7/dist-packages/ipykernel_launcher.py:1: FutureWarning:\n",
            "\n",
            "Indexing a DataFrame with a datetimelike index using a single string to slice the rows, like `frame[string]`, is deprecated and will be removed in a future version. Use `frame.loc[string]` instead.\n",
            "\n"
          ]
        },
        {
          "output_type": "display_data",
          "data": {
            "text/html": [
              "<html>\n",
              "<head><meta charset=\"utf-8\" /></head>\n",
              "<body>\n",
              "    <div>            <script src=\"https://cdnjs.cloudflare.com/ajax/libs/mathjax/2.7.5/MathJax.js?config=TeX-AMS-MML_SVG\"></script><script type=\"text/javascript\">if (window.MathJax) {MathJax.Hub.Config({SVG: {font: \"STIX-Web\"}});}</script>                <script type=\"text/javascript\">window.PlotlyConfig = {MathJaxConfig: 'local'};</script>\n",
              "        <script src=\"https://cdn.plot.ly/plotly-2.8.3.min.js\"></script>                <div id=\"590423f5-f694-4fd4-8716-4e2541aef645\" class=\"plotly-graph-div\" style=\"height:525px; width:100%;\"></div>            <script type=\"text/javascript\">                                    window.PLOTLYENV=window.PLOTLYENV || {};                                    if (document.getElementById(\"590423f5-f694-4fd4-8716-4e2541aef645\")) {                    Plotly.newPlot(                        \"590423f5-f694-4fd4-8716-4e2541aef645\",                        [{\"hovertemplate\":\"x=%{x}<br>asleep=%{y}<extra></extra>\",\"legendgroup\":\"\",\"marker\":{\"color\":\"#636efa\",\"symbol\":\"circle\"},\"mode\":\"markers\",\"name\":\"\",\"orientation\":\"v\",\"showlegend\":false,\"x\":[\"2022-01-01T00:00:00\",\"2022-01-02T00:00:00\",\"2022-01-03T00:00:00\",\"2022-01-04T00:00:00\",\"2022-01-05T00:00:00\",\"2022-01-06T00:00:00\",\"2022-01-07T00:00:00\",\"2022-01-08T00:00:00\",\"2022-01-09T00:00:00\",\"2022-01-10T00:00:00\",\"2022-01-11T00:00:00\",\"2022-01-12T00:00:00\",\"2022-01-13T00:00:00\",\"2022-01-14T00:00:00\",\"2022-01-15T00:00:00\",\"2022-01-16T00:00:00\",\"2022-01-17T00:00:00\",\"2022-01-18T00:00:00\",\"2022-01-19T00:00:00\",\"2022-01-20T00:00:00\",\"2022-01-21T00:00:00\",\"2022-01-22T00:00:00\",\"2022-01-23T00:00:00\",\"2022-01-24T00:00:00\",\"2022-01-25T00:00:00\",\"2022-01-26T00:00:00\",\"2022-01-27T00:00:00\",\"2022-01-28T00:00:00\",\"2022-01-29T00:00:00\",\"2022-01-30T00:00:00\",\"2022-01-31T00:00:00\",\"2022-02-01T00:00:00\",\"2022-02-02T00:00:00\",\"2022-02-03T00:00:00\",\"2022-02-04T00:00:00\",\"2022-02-05T00:00:00\",\"2022-02-06T00:00:00\",\"2022-02-07T00:00:00\",\"2022-02-08T00:00:00\",\"2022-02-09T00:00:00\",\"2022-02-10T00:00:00\",\"2022-02-11T00:00:00\",\"2022-02-12T00:00:00\",\"2022-02-13T00:00:00\",\"2022-02-14T00:00:00\",\"2022-02-15T00:00:00\",\"2022-02-16T00:00:00\",\"2022-02-17T00:00:00\",\"2022-02-18T00:00:00\",\"2022-02-19T00:00:00\",\"2022-02-20T00:00:00\",\"2022-02-21T00:00:00\",\"2022-02-22T00:00:00\",\"2022-02-23T00:00:00\",\"2022-02-24T00:00:00\",\"2022-02-25T00:00:00\",\"2022-02-26T00:00:00\",\"2022-02-27T00:00:00\",\"2022-02-28T00:00:00\",\"2022-03-01T00:00:00\",\"2022-03-02T00:00:00\",\"2022-03-03T00:00:00\",\"2022-03-04T00:00:00\",\"2022-03-05T00:00:00\",\"2022-03-06T00:00:00\",\"2022-03-07T00:00:00\",\"2022-03-08T00:00:00\",\"2022-03-09T00:00:00\",\"2022-03-10T00:00:00\",\"2022-03-11T00:00:00\",\"2022-03-12T00:00:00\",\"2022-03-13T00:00:00\",\"2022-03-14T00:00:00\",\"2022-03-15T00:00:00\",\"2022-03-16T00:00:00\",\"2022-03-17T00:00:00\",\"2022-03-18T00:00:00\",\"2022-03-19T00:00:00\",\"2022-03-20T00:00:00\",\"2022-03-21T00:00:00\",\"2022-03-22T00:00:00\",\"2022-03-23T00:00:00\",\"2022-03-24T00:00:00\",\"2022-03-25T00:00:00\",\"2022-03-26T00:00:00\",\"2022-03-27T00:00:00\",\"2022-03-28T00:00:00\",\"2022-03-29T00:00:00\",\"2022-03-30T00:00:00\",\"2022-03-31T00:00:00\",\"2022-04-01T00:00:00\",\"2022-04-02T00:00:00\",\"2022-04-03T00:00:00\",\"2022-04-04T00:00:00\",\"2022-04-05T00:00:00\",\"2022-04-06T00:00:00\",\"2022-04-07T00:00:00\",\"2022-04-08T00:00:00\",\"2022-04-09T00:00:00\",\"2022-04-10T00:00:00\",\"2022-04-11T00:00:00\",\"2022-04-12T00:00:00\",\"2022-04-13T00:00:00\",\"2022-04-14T00:00:00\",\"2022-04-15T00:00:00\",\"2022-04-16T00:00:00\",\"2022-04-17T00:00:00\",\"2022-04-18T00:00:00\",\"2022-04-19T00:00:00\",\"2022-04-20T00:00:00\",\"2022-04-21T00:00:00\",\"2022-04-22T00:00:00\",\"2022-04-23T00:00:00\",\"2022-04-24T00:00:00\",\"2022-04-25T00:00:00\",\"2022-04-26T00:00:00\",\"2022-04-27T00:00:00\",\"2022-04-28T00:00:00\",\"2022-04-29T00:00:00\",\"2022-04-30T00:00:00\",\"2022-05-01T00:00:00\",\"2022-05-02T00:00:00\",\"2022-05-03T00:00:00\",\"2022-05-04T00:00:00\",\"2022-05-05T00:00:00\",\"2022-05-06T00:00:00\",\"2022-05-07T00:00:00\",\"2022-05-08T00:00:00\",\"2022-05-09T00:00:00\",\"2022-05-10T00:00:00\",\"2022-05-11T00:00:00\",\"2022-05-12T00:00:00\",\"2022-05-13T00:00:00\",\"2022-05-14T00:00:00\",\"2022-05-15T00:00:00\",\"2022-05-16T00:00:00\",\"2022-05-17T00:00:00\",\"2022-05-18T00:00:00\",\"2022-05-19T00:00:00\",\"2022-05-20T00:00:00\",\"2022-05-21T00:00:00\",\"2022-05-22T00:00:00\",\"2022-05-23T00:00:00\",\"2022-05-24T00:00:00\",\"2022-05-25T00:00:00\",\"2022-05-26T00:00:00\",\"2022-05-27T00:00:00\",\"2022-05-28T00:00:00\",\"2022-05-29T00:00:00\",\"2022-05-30T00:00:00\",\"2022-05-31T00:00:00\",\"2022-06-01T00:00:00\",\"2022-06-02T00:00:00\",\"2022-06-03T00:00:00\",\"2022-06-04T00:00:00\",\"2022-06-05T00:00:00\",\"2022-06-06T00:00:00\",\"2022-06-07T00:00:00\",\"2022-06-08T00:00:00\",\"2022-06-09T00:00:00\",\"2022-06-10T00:00:00\",\"2022-06-11T00:00:00\",\"2022-06-12T00:00:00\",\"2022-06-13T00:00:00\",\"2022-06-14T00:00:00\",\"2022-06-15T00:00:00\",\"2022-06-16T00:00:00\",\"2022-06-17T00:00:00\",\"2022-06-18T00:00:00\",\"2022-06-19T00:00:00\",\"2022-06-20T00:00:00\",\"2022-06-21T00:00:00\",\"2022-06-22T00:00:00\",\"2022-06-23T00:00:00\",\"2022-06-24T00:00:00\",\"2022-06-25T00:00:00\",\"2022-06-26T00:00:00\",\"2022-06-27T00:00:00\",\"2022-06-28T00:00:00\",\"2022-06-29T00:00:00\",\"2022-06-30T00:00:00\",\"2022-07-01T00:00:00\",\"2022-07-02T00:00:00\",\"2022-07-03T00:00:00\",\"2022-07-04T00:00:00\",\"2022-07-05T00:00:00\",\"2022-07-06T00:00:00\",\"2022-07-07T00:00:00\",\"2022-07-08T00:00:00\",\"2022-07-09T00:00:00\",\"2022-07-10T00:00:00\",\"2022-07-11T00:00:00\",\"2022-07-12T00:00:00\",\"2022-07-13T00:00:00\",\"2022-07-14T00:00:00\",\"2022-07-15T00:00:00\",\"2022-07-16T00:00:00\",\"2022-07-17T00:00:00\",\"2022-07-18T00:00:00\",\"2022-07-19T00:00:00\",\"2022-07-20T00:00:00\",\"2022-07-21T00:00:00\",\"2022-07-22T00:00:00\",\"2022-07-23T00:00:00\",\"2022-07-24T00:00:00\",\"2022-07-25T00:00:00\",\"2022-07-26T00:00:00\",\"2022-07-27T00:00:00\",\"2022-07-28T00:00:00\",\"2022-07-29T00:00:00\",\"2022-07-30T00:00:00\",\"2022-07-31T00:00:00\",\"2022-08-01T00:00:00\",\"2022-08-02T00:00:00\",\"2022-08-03T00:00:00\",\"2022-08-04T00:00:00\",\"2022-08-05T00:00:00\",\"2022-08-06T00:00:00\",\"2022-08-07T00:00:00\",\"2022-08-08T00:00:00\",\"2022-08-09T00:00:00\",\"2022-08-10T00:00:00\",\"2022-08-11T00:00:00\",\"2022-08-12T00:00:00\",\"2022-08-13T00:00:00\",\"2022-08-14T00:00:00\",\"2022-08-15T00:00:00\",\"2022-08-16T00:00:00\",\"2022-08-17T00:00:00\",\"2022-08-18T00:00:00\",\"2022-08-19T00:00:00\",\"2022-08-20T00:00:00\",\"2022-08-21T00:00:00\",\"2022-08-22T00:00:00\",\"2022-08-23T00:00:00\",\"2022-08-24T00:00:00\",\"2022-08-25T00:00:00\",\"2022-08-26T00:00:00\",\"2022-08-27T00:00:00\",\"2022-08-28T00:00:00\",\"2022-08-29T00:00:00\",\"2022-08-30T00:00:00\",\"2022-08-31T00:00:00\",\"2022-09-01T00:00:00\",\"2022-09-02T00:00:00\",\"2022-09-03T00:00:00\",\"2022-09-04T00:00:00\",\"2022-09-05T00:00:00\",\"2022-09-06T00:00:00\",\"2022-09-07T00:00:00\",\"2022-09-08T00:00:00\",\"2022-09-09T00:00:00\"],\"xaxis\":\"x\",\"y\":[26040000000000,24840000000000,16080000000000,28440000000000,21000000000000,20340000000000,29520000000000,26160000000000,23160000000000,27720000000000,24960000000000,25620000000000,23640000000000,27600000000000,20280000000000,24060000000000,25680000000000,23040000000000,32220000000000,21180000000000,24480000000000,24480000000000,23640000000000,27600000000000,28260000000000,24660000000000,23880000000000,28680000000000,24480000000000,23100000000000,21960000000000,30540000000000,18780000000000,21720000000000,20940000000000,31620000000000,29640000000000,18600000000000,26100000000000,21540000000000,19440000000000,27900000000000,23220000000000,22920000000000,17460000000000,32700000000000,23400000000000,20940000000000,18300000000000,19740000000000,31500000000000,20640000000000,23880000000000,24120000000000,24840000000000,22680000000000,20280000000000,31440000000000,21840000000000,17220000000000,27480000000000,21600000000000,16320000000000,25920000000000,26580000000000,31740000000000,28740000000000,20640000000000,30960000000000,23820000000000,29580000000000,17340000000000,23100000000000,23700000000000,24960000000000,16980000000000,27120000000000,20100000000000,25740000000000,20100000000000,27240000000000,18900000000000,22320000000000,28560000000000,22020000000000,23160000000000,28740000000000,28140000000000,26280000000000,23280000000000,19020000000000,22500000000000,20820000000000,32700000000000,30120000000000,15180000000000,23520000000000,30900000000000,21000000000000,17400000000000,27060000000000,30240000000000,18240000000000,27360000000000,22080000000000,30540000000000,27060000000000,23040000000000,21660000000000,28440000000000,27180000000000,23640000000000,23520000000000,21600000000000,29040000000000,26040000000000,24060000000000,25920000000000,24960000000000,17220000000000,22740000000000,24240000000000,18660000000000,21660000000000,25080000000000,null,38700000000000,25920000000000,29940000000000,25500000000000,35160000000000,26340000000000,22380000000000,21780000000000,26520000000000,25560000000000,28080000000000,19980000000000,25140000000000,19800000000000,30060000000000,27600000000000,20220000000000,27360000000000,20460000000000,28320000000000,31020000000000,20400000000000,24960000000000,22740000000000,29340000000000,25260000000000,25620000000000,27660000000000,25380000000000,27240000000000,20280000000000,23280000000000,29220000000000,30660000000000,23400000000000,19200000000000,25380000000000,24120000000000,24420000000000,18060000000000,24300000000000,24540000000000,25500000000000,24600000000000,27120000000000,27840000000000,25020000000000,21600000000000,21600000000000,24180000000000,22980000000000,21600000000000,20820000000000,30660000000000,28380000000000,33180000000000,21420000000000,25920000000000,21000000000000,27480000000000,21660000000000,24360000000000,28680000000000,21720000000000,22680000000000,53100000000000,28080000000000,30660000000000,null,null,null,22380000000000,23640000000000,19800000000000,31440000000000,24840000000000,20820000000000,26340000000000,27660000000000,29460000000000,25920000000000,30840000000000,25740000000000,27060000000000,25500000000000,19920000000000,26520000000000,28860000000000,29340000000000,45600000000000,26880000000000,25620000000000,21540000000000,29940000000000,23580000000000,22080000000000,28980000000000,25620000000000,31860000000000,25680000000000,27660000000000,28080000000000,26700000000000,17040000000000,30840000000000,23580000000000,22500000000000,25860000000000,23400000000000,22920000000000,31380000000000,23880000000000,27840000000000,23460000000000,24120000000000,31980000000000,29760000000000,18840000000000,30060000000000,19680000000000,27660000000000,29460000000000,25020000000000,32700000000000,33060000000000,22560000000000],\"yaxis\":\"y\",\"type\":\"scatter\"}],                        {\"template\":{\"data\":{\"bar\":[{\"error_x\":{\"color\":\"#2a3f5f\"},\"error_y\":{\"color\":\"#2a3f5f\"},\"marker\":{\"line\":{\"color\":\"#E5ECF6\",\"width\":0.5},\"pattern\":{\"fillmode\":\"overlay\",\"size\":10,\"solidity\":0.2}},\"type\":\"bar\"}],\"barpolar\":[{\"marker\":{\"line\":{\"color\":\"#E5ECF6\",\"width\":0.5},\"pattern\":{\"fillmode\":\"overlay\",\"size\":10,\"solidity\":0.2}},\"type\":\"barpolar\"}],\"carpet\":[{\"aaxis\":{\"endlinecolor\":\"#2a3f5f\",\"gridcolor\":\"white\",\"linecolor\":\"white\",\"minorgridcolor\":\"white\",\"startlinecolor\":\"#2a3f5f\"},\"baxis\":{\"endlinecolor\":\"#2a3f5f\",\"gridcolor\":\"white\",\"linecolor\":\"white\",\"minorgridcolor\":\"white\",\"startlinecolor\":\"#2a3f5f\"},\"type\":\"carpet\"}],\"choropleth\":[{\"colorbar\":{\"outlinewidth\":0,\"ticks\":\"\"},\"type\":\"choropleth\"}],\"contour\":[{\"colorbar\":{\"outlinewidth\":0,\"ticks\":\"\"},\"colorscale\":[[0.0,\"#0d0887\"],[0.1111111111111111,\"#46039f\"],[0.2222222222222222,\"#7201a8\"],[0.3333333333333333,\"#9c179e\"],[0.4444444444444444,\"#bd3786\"],[0.5555555555555556,\"#d8576b\"],[0.6666666666666666,\"#ed7953\"],[0.7777777777777778,\"#fb9f3a\"],[0.8888888888888888,\"#fdca26\"],[1.0,\"#f0f921\"]],\"type\":\"contour\"}],\"contourcarpet\":[{\"colorbar\":{\"outlinewidth\":0,\"ticks\":\"\"},\"type\":\"contourcarpet\"}],\"heatmap\":[{\"colorbar\":{\"outlinewidth\":0,\"ticks\":\"\"},\"colorscale\":[[0.0,\"#0d0887\"],[0.1111111111111111,\"#46039f\"],[0.2222222222222222,\"#7201a8\"],[0.3333333333333333,\"#9c179e\"],[0.4444444444444444,\"#bd3786\"],[0.5555555555555556,\"#d8576b\"],[0.6666666666666666,\"#ed7953\"],[0.7777777777777778,\"#fb9f3a\"],[0.8888888888888888,\"#fdca26\"],[1.0,\"#f0f921\"]],\"type\":\"heatmap\"}],\"heatmapgl\":[{\"colorbar\":{\"outlinewidth\":0,\"ticks\":\"\"},\"colorscale\":[[0.0,\"#0d0887\"],[0.1111111111111111,\"#46039f\"],[0.2222222222222222,\"#7201a8\"],[0.3333333333333333,\"#9c179e\"],[0.4444444444444444,\"#bd3786\"],[0.5555555555555556,\"#d8576b\"],[0.6666666666666666,\"#ed7953\"],[0.7777777777777778,\"#fb9f3a\"],[0.8888888888888888,\"#fdca26\"],[1.0,\"#f0f921\"]],\"type\":\"heatmapgl\"}],\"histogram\":[{\"marker\":{\"pattern\":{\"fillmode\":\"overlay\",\"size\":10,\"solidity\":0.2}},\"type\":\"histogram\"}],\"histogram2d\":[{\"colorbar\":{\"outlinewidth\":0,\"ticks\":\"\"},\"colorscale\":[[0.0,\"#0d0887\"],[0.1111111111111111,\"#46039f\"],[0.2222222222222222,\"#7201a8\"],[0.3333333333333333,\"#9c179e\"],[0.4444444444444444,\"#bd3786\"],[0.5555555555555556,\"#d8576b\"],[0.6666666666666666,\"#ed7953\"],[0.7777777777777778,\"#fb9f3a\"],[0.8888888888888888,\"#fdca26\"],[1.0,\"#f0f921\"]],\"type\":\"histogram2d\"}],\"histogram2dcontour\":[{\"colorbar\":{\"outlinewidth\":0,\"ticks\":\"\"},\"colorscale\":[[0.0,\"#0d0887\"],[0.1111111111111111,\"#46039f\"],[0.2222222222222222,\"#7201a8\"],[0.3333333333333333,\"#9c179e\"],[0.4444444444444444,\"#bd3786\"],[0.5555555555555556,\"#d8576b\"],[0.6666666666666666,\"#ed7953\"],[0.7777777777777778,\"#fb9f3a\"],[0.8888888888888888,\"#fdca26\"],[1.0,\"#f0f921\"]],\"type\":\"histogram2dcontour\"}],\"mesh3d\":[{\"colorbar\":{\"outlinewidth\":0,\"ticks\":\"\"},\"type\":\"mesh3d\"}],\"parcoords\":[{\"line\":{\"colorbar\":{\"outlinewidth\":0,\"ticks\":\"\"}},\"type\":\"parcoords\"}],\"pie\":[{\"automargin\":true,\"type\":\"pie\"}],\"scatter\":[{\"marker\":{\"colorbar\":{\"outlinewidth\":0,\"ticks\":\"\"}},\"type\":\"scatter\"}],\"scatter3d\":[{\"line\":{\"colorbar\":{\"outlinewidth\":0,\"ticks\":\"\"}},\"marker\":{\"colorbar\":{\"outlinewidth\":0,\"ticks\":\"\"}},\"type\":\"scatter3d\"}],\"scattercarpet\":[{\"marker\":{\"colorbar\":{\"outlinewidth\":0,\"ticks\":\"\"}},\"type\":\"scattercarpet\"}],\"scattergeo\":[{\"marker\":{\"colorbar\":{\"outlinewidth\":0,\"ticks\":\"\"}},\"type\":\"scattergeo\"}],\"scattergl\":[{\"marker\":{\"colorbar\":{\"outlinewidth\":0,\"ticks\":\"\"}},\"type\":\"scattergl\"}],\"scattermapbox\":[{\"marker\":{\"colorbar\":{\"outlinewidth\":0,\"ticks\":\"\"}},\"type\":\"scattermapbox\"}],\"scatterpolar\":[{\"marker\":{\"colorbar\":{\"outlinewidth\":0,\"ticks\":\"\"}},\"type\":\"scatterpolar\"}],\"scatterpolargl\":[{\"marker\":{\"colorbar\":{\"outlinewidth\":0,\"ticks\":\"\"}},\"type\":\"scatterpolargl\"}],\"scatterternary\":[{\"marker\":{\"colorbar\":{\"outlinewidth\":0,\"ticks\":\"\"}},\"type\":\"scatterternary\"}],\"surface\":[{\"colorbar\":{\"outlinewidth\":0,\"ticks\":\"\"},\"colorscale\":[[0.0,\"#0d0887\"],[0.1111111111111111,\"#46039f\"],[0.2222222222222222,\"#7201a8\"],[0.3333333333333333,\"#9c179e\"],[0.4444444444444444,\"#bd3786\"],[0.5555555555555556,\"#d8576b\"],[0.6666666666666666,\"#ed7953\"],[0.7777777777777778,\"#fb9f3a\"],[0.8888888888888888,\"#fdca26\"],[1.0,\"#f0f921\"]],\"type\":\"surface\"}],\"table\":[{\"cells\":{\"fill\":{\"color\":\"#EBF0F8\"},\"line\":{\"color\":\"white\"}},\"header\":{\"fill\":{\"color\":\"#C8D4E3\"},\"line\":{\"color\":\"white\"}},\"type\":\"table\"}]},\"layout\":{\"annotationdefaults\":{\"arrowcolor\":\"#2a3f5f\",\"arrowhead\":0,\"arrowwidth\":1},\"autotypenumbers\":\"strict\",\"coloraxis\":{\"colorbar\":{\"outlinewidth\":0,\"ticks\":\"\"}},\"colorscale\":{\"diverging\":[[0,\"#8e0152\"],[0.1,\"#c51b7d\"],[0.2,\"#de77ae\"],[0.3,\"#f1b6da\"],[0.4,\"#fde0ef\"],[0.5,\"#f7f7f7\"],[0.6,\"#e6f5d0\"],[0.7,\"#b8e186\"],[0.8,\"#7fbc41\"],[0.9,\"#4d9221\"],[1,\"#276419\"]],\"sequential\":[[0.0,\"#0d0887\"],[0.1111111111111111,\"#46039f\"],[0.2222222222222222,\"#7201a8\"],[0.3333333333333333,\"#9c179e\"],[0.4444444444444444,\"#bd3786\"],[0.5555555555555556,\"#d8576b\"],[0.6666666666666666,\"#ed7953\"],[0.7777777777777778,\"#fb9f3a\"],[0.8888888888888888,\"#fdca26\"],[1.0,\"#f0f921\"]],\"sequentialminus\":[[0.0,\"#0d0887\"],[0.1111111111111111,\"#46039f\"],[0.2222222222222222,\"#7201a8\"],[0.3333333333333333,\"#9c179e\"],[0.4444444444444444,\"#bd3786\"],[0.5555555555555556,\"#d8576b\"],[0.6666666666666666,\"#ed7953\"],[0.7777777777777778,\"#fb9f3a\"],[0.8888888888888888,\"#fdca26\"],[1.0,\"#f0f921\"]]},\"colorway\":[\"#636efa\",\"#EF553B\",\"#00cc96\",\"#ab63fa\",\"#FFA15A\",\"#19d3f3\",\"#FF6692\",\"#B6E880\",\"#FF97FF\",\"#FECB52\"],\"font\":{\"color\":\"#2a3f5f\"},\"geo\":{\"bgcolor\":\"white\",\"lakecolor\":\"white\",\"landcolor\":\"#E5ECF6\",\"showlakes\":true,\"showland\":true,\"subunitcolor\":\"white\"},\"hoverlabel\":{\"align\":\"left\"},\"hovermode\":\"closest\",\"mapbox\":{\"style\":\"light\"},\"paper_bgcolor\":\"white\",\"plot_bgcolor\":\"#E5ECF6\",\"polar\":{\"angularaxis\":{\"gridcolor\":\"white\",\"linecolor\":\"white\",\"ticks\":\"\"},\"bgcolor\":\"#E5ECF6\",\"radialaxis\":{\"gridcolor\":\"white\",\"linecolor\":\"white\",\"ticks\":\"\"}},\"scene\":{\"xaxis\":{\"backgroundcolor\":\"#E5ECF6\",\"gridcolor\":\"white\",\"gridwidth\":2,\"linecolor\":\"white\",\"showbackground\":true,\"ticks\":\"\",\"zerolinecolor\":\"white\"},\"yaxis\":{\"backgroundcolor\":\"#E5ECF6\",\"gridcolor\":\"white\",\"gridwidth\":2,\"linecolor\":\"white\",\"showbackground\":true,\"ticks\":\"\",\"zerolinecolor\":\"white\"},\"zaxis\":{\"backgroundcolor\":\"#E5ECF6\",\"gridcolor\":\"white\",\"gridwidth\":2,\"linecolor\":\"white\",\"showbackground\":true,\"ticks\":\"\",\"zerolinecolor\":\"white\"}},\"shapedefaults\":{\"line\":{\"color\":\"#2a3f5f\"}},\"ternary\":{\"aaxis\":{\"gridcolor\":\"white\",\"linecolor\":\"white\",\"ticks\":\"\"},\"baxis\":{\"gridcolor\":\"white\",\"linecolor\":\"white\",\"ticks\":\"\"},\"bgcolor\":\"#E5ECF6\",\"caxis\":{\"gridcolor\":\"white\",\"linecolor\":\"white\",\"ticks\":\"\"}},\"title\":{\"x\":0.05},\"xaxis\":{\"automargin\":true,\"gridcolor\":\"white\",\"linecolor\":\"white\",\"ticks\":\"\",\"title\":{\"standoff\":15},\"zerolinecolor\":\"white\",\"zerolinewidth\":2},\"yaxis\":{\"automargin\":true,\"gridcolor\":\"white\",\"linecolor\":\"white\",\"ticks\":\"\",\"title\":{\"standoff\":15},\"zerolinecolor\":\"white\",\"zerolinewidth\":2}}},\"xaxis\":{\"anchor\":\"y\",\"domain\":[0.0,1.0],\"title\":{\"text\":\"x\"}},\"yaxis\":{\"anchor\":\"x\",\"domain\":[0.0,1.0],\"title\":{\"text\":\"asleep\"}},\"legend\":{\"tracegroupgap\":0},\"margin\":{\"t\":60}},                        {\"responsive\": true}                    ).then(function(){\n",
              "                            \n",
              "var gd = document.getElementById('590423f5-f694-4fd4-8716-4e2541aef645');\n",
              "var x = new MutationObserver(function (mutations, observer) {{\n",
              "        var display = window.getComputedStyle(gd).display;\n",
              "        if (!display || display === 'none') {{\n",
              "            console.log([gd, 'removed!']);\n",
              "            Plotly.purge(gd);\n",
              "            observer.disconnect();\n",
              "        }}\n",
              "}});\n",
              "\n",
              "// Listen for the removal of the full notebook cells\n",
              "var notebookContainer = gd.closest('#notebook-container');\n",
              "if (notebookContainer) {{\n",
              "    x.observe(notebookContainer, {childList: true});\n",
              "}}\n",
              "\n",
              "// Listen for the clearing of the current output cell\n",
              "var outputEl = gd.closest('.output');\n",
              "if (outputEl) {{\n",
              "    x.observe(outputEl, {childList: true});\n",
              "}}\n",
              "\n",
              "                        })                };                            </script>        </div>\n",
              "</body>\n",
              "</html>"
            ]
          },
          "metadata": {}
        }
      ]
    },
    {
      "cell_type": "code",
      "source": [
        "mergeddata.shape01"
      ],
      "metadata": {
        "colab": {
          "base_uri": "https://localhost:8080/",
          "height": 283
        },
        "id": "6meJ6dZK7xbO",
        "outputId": "6163a3e4-fa2c-4a65-85ed-7d03755dc6e2"
      },
      "execution_count": 105,
      "outputs": [
        {
          "output_type": "error",
          "ename": "AttributeError",
          "evalue": "ignored",
          "traceback": [
            "\u001b[0;31m---------------------------------------------------------------------------\u001b[0m",
            "\u001b[0;31mAttributeError\u001b[0m                            Traceback (most recent call last)",
            "\u001b[0;32m<ipython-input-105-fea16ce10726>\u001b[0m in \u001b[0;36m<module>\u001b[0;34m\u001b[0m\n\u001b[0;32m----> 1\u001b[0;31m \u001b[0mmergeddata\u001b[0m\u001b[0;34m.\u001b[0m\u001b[0mshape01\u001b[0m\u001b[0;34m\u001b[0m\u001b[0;34m\u001b[0m\u001b[0m\n\u001b[0m",
            "\u001b[0;32m/usr/local/lib/python3.7/dist-packages/pandas/core/generic.py\u001b[0m in \u001b[0;36m__getattr__\u001b[0;34m(self, name)\u001b[0m\n\u001b[1;32m   5485\u001b[0m         ):\n\u001b[1;32m   5486\u001b[0m             \u001b[0;32mreturn\u001b[0m \u001b[0mself\u001b[0m\u001b[0;34m[\u001b[0m\u001b[0mname\u001b[0m\u001b[0;34m]\u001b[0m\u001b[0;34m\u001b[0m\u001b[0;34m\u001b[0m\u001b[0m\n\u001b[0;32m-> 5487\u001b[0;31m         \u001b[0;32mreturn\u001b[0m \u001b[0mobject\u001b[0m\u001b[0;34m.\u001b[0m\u001b[0m__getattribute__\u001b[0m\u001b[0;34m(\u001b[0m\u001b[0mself\u001b[0m\u001b[0;34m,\u001b[0m \u001b[0mname\u001b[0m\u001b[0;34m)\u001b[0m\u001b[0;34m\u001b[0m\u001b[0;34m\u001b[0m\u001b[0m\n\u001b[0m\u001b[1;32m   5488\u001b[0m \u001b[0;34m\u001b[0m\u001b[0m\n\u001b[1;32m   5489\u001b[0m     \u001b[0;32mdef\u001b[0m \u001b[0m__setattr__\u001b[0m\u001b[0;34m(\u001b[0m\u001b[0mself\u001b[0m\u001b[0;34m,\u001b[0m \u001b[0mname\u001b[0m\u001b[0;34m:\u001b[0m \u001b[0mstr\u001b[0m\u001b[0;34m,\u001b[0m \u001b[0mvalue\u001b[0m\u001b[0;34m)\u001b[0m \u001b[0;34m->\u001b[0m \u001b[0;32mNone\u001b[0m\u001b[0;34m:\u001b[0m\u001b[0;34m\u001b[0m\u001b[0;34m\u001b[0m\u001b[0m\n",
            "\u001b[0;31mAttributeError\u001b[0m: 'DataFrame' object has no attribute 'shape01'"
          ]
        }
      ]
    },
    {
      "cell_type": "code",
      "source": [
        "mergeddata['2020-'].index"
      ],
      "metadata": {
        "id": "gNspZ-nt8EW-"
      },
      "execution_count": null,
      "outputs": []
    },
    {
      "cell_type": "code",
      "source": [],
      "metadata": {
        "id": "ph0gQ3Nd8QpB"
      },
      "execution_count": null,
      "outputs": []
    }
  ],
  "metadata": {
    "colab": {
      "provenance": [],
      "collapsed_sections": [],
      "mount_file_id": "18MuaG6dH_Boqy543mb57USGT1Yg0owb4",
      "authorship_tag": "ABX9TyOTFc+w5VGuYG2ILzIb6eb9",
      "include_colab_link": true
    },
    "kernelspec": {
      "display_name": "Python 3",
      "name": "python3"
    },
    "language_info": {
      "name": "python"
    }
  },
  "nbformat": 4,
  "nbformat_minor": 0
}